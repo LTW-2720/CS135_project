{
 "cells": [
  {
   "cell_type": "code",
   "execution_count": 47,
   "id": "54d715b8",
   "metadata": {},
   "outputs": [],
   "source": [
    "import numpy as np\n",
    "import pandas as pd\n",
    "import sys\n",
    "import warnings\n",
    "if not sys.warnoptions:\n",
    "    warnings.simplefilter(\"ignore\")\n",
    "from sklearn.model_selection import cross_val_score\n",
    "import matplotlib.pyplot as plt\n",
    "import seaborn as sns\n",
    "plt.style.use('seaborn')\n",
    "from sklearn.model_selection import GridSearchCV"
   ]
  },
  {
   "cell_type": "code",
   "execution_count": 48,
   "id": "0491387a",
   "metadata": {},
   "outputs": [
    {
     "data": {
      "text/plain": [
       "0       Oh and I forgot to also mention the weird colo...\n",
       "1                            THAT one didn't work either.\n",
       "2                                      Waste of 13 bucks.\n",
       "3       Product is useless, since it does not have eno...\n",
       "4       None of the three sizes they sent with the hea...\n",
       "                              ...                        \n",
       "2995      This is a great restaurant at the Mandalay Bay.\n",
       "2996    I could care less... The interior is just beau...\n",
       "2997    The only consistent thread holding the series ...\n",
       "2998    My side Greek salad with the Greek dressing wa...\n",
       "2999    However, my recent experience at this particul...\n",
       "Name: text, Length: 3000, dtype: object"
      ]
     },
     "execution_count": 48,
     "metadata": {},
     "output_type": "execute_result"
    }
   ],
   "source": [
    "x_train_df = pd.read_csv('data_reviews/x_train.csv')\n",
    "y_train_df = pd.read_csv('data_reviews/y_train.csv')\n",
    "x_test_df = pd.read_csv('data_reviews/x_test.csv')\n",
    "X = pd.concat([x_train_df, x_test_df], ignore_index=True ,axis=0)\n",
    "# x_train_df.head()\n",
    "X['text']"
   ]
  },
  {
   "cell_type": "markdown",
   "id": "082fb6f0",
   "metadata": {},
   "source": [
    "### Text preprocessing"
   ]
  },
  {
   "cell_type": "markdown",
   "id": "f3571d04",
   "metadata": {},
   "source": [
    "#### Lowercase"
   ]
  },
  {
   "cell_type": "code",
   "execution_count": 49,
   "id": "9dfcab33",
   "metadata": {},
   "outputs": [
    {
     "data": {
      "text/plain": [
       "0       oh and i forgot to also mention the weird colo...\n",
       "1                            that one didn't work either.\n",
       "2                                      waste of 13 bucks.\n",
       "3       product is useless, since it does not have eno...\n",
       "4       none of the three sizes they sent with the hea...\n",
       "                              ...                        \n",
       "2995      this is a great restaurant at the mandalay bay.\n",
       "2996    i could care less... the interior is just beau...\n",
       "2997    the only consistent thread holding the series ...\n",
       "2998    my side greek salad with the greek dressing wa...\n",
       "2999    however, my recent experience at this particul...\n",
       "Name: text, Length: 3000, dtype: object"
      ]
     },
     "execution_count": 49,
     "metadata": {},
     "output_type": "execute_result"
    }
   ],
   "source": [
    "x_train_df['text'] = x_train_df['text'].str.lower()\n",
    "x_train_df['text'].head()\n",
    "x_test_df['text'] = x_test_df['text'].str.lower()\n",
    "x_test_df['text'].head()\n",
    "X['text'] = X['text'].str.lower()\n",
    "X['text']"
   ]
  },
  {
   "cell_type": "markdown",
   "id": "dd2bb421",
   "metadata": {},
   "source": [
    "#### Remove number\n"
   ]
  },
  {
   "cell_type": "code",
   "execution_count": 50,
   "id": "7bf12627",
   "metadata": {},
   "outputs": [],
   "source": [
    "X['text'] = X['text'] .str.replace('\\d+', '')\n",
    "# df.Name = df.Name.str.replace('\\d+', '')"
   ]
  },
  {
   "cell_type": "code",
   "execution_count": 51,
   "id": "9ba13149",
   "metadata": {},
   "outputs": [
    {
     "data": {
      "text/plain": [
       "0       oh and i forgot to also mention the weird colo...\n",
       "1                            that one didn't work either.\n",
       "2                                        waste of  bucks.\n",
       "3       product is useless, since it does not have eno...\n",
       "4       none of the three sizes they sent with the hea...\n",
       "                              ...                        \n",
       "2995      this is a great restaurant at the mandalay bay.\n",
       "2996    i could care less... the interior is just beau...\n",
       "2997    the only consistent thread holding the series ...\n",
       "2998    my side greek salad with the greek dressing wa...\n",
       "2999    however, my recent experience at this particul...\n",
       "Name: text, Length: 3000, dtype: object"
      ]
     },
     "execution_count": 51,
     "metadata": {},
     "output_type": "execute_result"
    }
   ],
   "source": [
    "X['text']"
   ]
  },
  {
   "cell_type": "markdown",
   "id": "a5addb93",
   "metadata": {},
   "source": [
    "#### Expand Contractions"
   ]
  },
  {
   "cell_type": "code",
   "execution_count": 52,
   "id": "eb8f0d12",
   "metadata": {},
   "outputs": [],
   "source": [
    "import contractions"
   ]
  },
  {
   "cell_type": "code",
   "execution_count": 53,
   "id": "44065303",
   "metadata": {},
   "outputs": [],
   "source": [
    "X['text'] = X['text'].apply(lambda x: contractions.fix(x) )"
   ]
  },
  {
   "cell_type": "code",
   "execution_count": 54,
   "id": "b66dd670",
   "metadata": {},
   "outputs": [
    {
     "data": {
      "text/plain": [
       "0       oh and i forgot to also mention the weird colo...\n",
       "1                           that one did not work either.\n",
       "2                                        waste of  bucks.\n",
       "3       product is useless, since it does not have eno...\n",
       "4       none of the three sizes they sent with the hea...\n",
       "                              ...                        \n",
       "2995      this is a great restaurant at the mandalay bay.\n",
       "2996    i could care less... the interior is just beau...\n",
       "2997    the only consistent thread holding the series ...\n",
       "2998    my side greek salad with the greek dressing wa...\n",
       "2999    however, my recent experience at this particul...\n",
       "Name: text, Length: 3000, dtype: object"
      ]
     },
     "execution_count": 54,
     "metadata": {},
     "output_type": "execute_result"
    }
   ],
   "source": [
    "X['text']"
   ]
  },
  {
   "cell_type": "markdown",
   "id": "4cccf4b4",
   "metadata": {},
   "source": [
    "#### Remove stop words"
   ]
  },
  {
   "cell_type": "code",
   "execution_count": 55,
   "id": "a50b8a00",
   "metadata": {},
   "outputs": [
    {
     "name": "stdout",
     "output_type": "stream",
     "text": [
      "['i', 'me', 'my', 'myself', 'we', 'our', 'ours', 'ourselves', 'you', \"you're\", \"you've\", \"you'll\", \"you'd\", 'your', 'yours', 'yourself', 'yourselves', 'he', 'him', 'his', 'himself', 'she', \"she's\", 'her', 'hers', 'herself', 'it', \"it's\", 'its', 'itself', 'they', 'them', 'their', 'theirs', 'themselves', 'what', 'which', 'who', 'whom', 'this', 'that', \"that'll\", 'these', 'those', 'am', 'is', 'are', 'was', 'were', 'be', 'been', 'being', 'have', 'has', 'had', 'having', 'do', 'does', 'did', 'doing', 'a', 'an', 'the', 'and', 'but', 'if', 'or', 'because', 'as', 'until', 'while', 'of', 'at', 'by', 'for', 'with', 'about', 'against', 'between', 'into', 'through', 'during', 'before', 'after', 'above', 'below', 'to', 'from', 'up', 'down', 'in', 'out', 'on', 'off', 'over', 'under', 'again', 'further', 'then', 'once', 'here', 'there', 'when', 'where', 'why', 'how', 'all', 'any', 'both', 'each', 'few', 'more', 'most', 'other', 'some', 'such', 'no', 'nor', 'not', 'only', 'own', 'same', 'so', 'than', 'too', 'very', 's', 't', 'can', 'will', 'just', 'don', \"don't\", 'should', \"should've\", 'now', 'd', 'll', 'm', 'o', 're', 've', 'y', 'ain', 'aren', \"aren't\", 'couldn', \"couldn't\", 'didn', \"didn't\", 'doesn', \"doesn't\", 'hadn', \"hadn't\", 'hasn', \"hasn't\", 'haven', \"haven't\", 'isn', \"isn't\", 'ma', 'mightn', \"mightn't\", 'mustn', \"mustn't\", 'needn', \"needn't\", 'shan', \"shan't\", 'shouldn', \"shouldn't\", 'wasn', \"wasn't\", 'weren', \"weren't\", 'won', \"won't\", 'wouldn', \"wouldn't\"]\n"
     ]
    },
    {
     "name": "stderr",
     "output_type": "stream",
     "text": [
      "[nltk_data] Downloading package punkt to\n",
      "[nltk_data]     C:\\Users\\黎廷威\\AppData\\Roaming\\nltk_data...\n",
      "[nltk_data]   Package punkt is already up-to-date!\n",
      "[nltk_data] Downloading package stopwords to\n",
      "[nltk_data]     C:\\Users\\黎廷威\\AppData\\Roaming\\nltk_data...\n",
      "[nltk_data]   Package stopwords is already up-to-date!\n"
     ]
    }
   ],
   "source": [
    "import nltk\n",
    "nltk.download('punkt')\n",
    "nltk.download('stopwords')\n",
    "from nltk.corpus import stopwords\n",
    "stop_words = stopwords.words('english')\n",
    "print(stop_words)"
   ]
  },
  {
   "cell_type": "code",
   "execution_count": 56,
   "id": "f45e1306",
   "metadata": {},
   "outputs": [],
   "source": [
    "neg_words = ['don', \"don't\",'aren', \"aren't\", 'couldn', \"couldn't\", 'didn', \"didn't\", 'doesn', \"doesn't\", 'hadn', \"hadn't\", \n",
    "             'hasn', \"hasn't\",'isn', \"isn't\", \"mightn't\", 'mustn', \"mustn't\", 'needn', \"needn't\", 'shan', \"shan't\", 'shouldn', \n",
    "             \"shouldn't\", 'wasn', \"wasn't\", 'weren', \"weren't\", 'won', \"won't\", 'wouldn', \"wouldn't\",\n",
    "             'no', 'nor', 'not', \"haven't\", 'mightn']"
   ]
  },
  {
   "cell_type": "code",
   "execution_count": 57,
   "id": "125dab8a",
   "metadata": {},
   "outputs": [],
   "source": [
    "temp = [x for x in stop_words if x not in neg_words]\n",
    "# temp"
   ]
  },
  {
   "cell_type": "code",
   "execution_count": 58,
   "id": "130d314b",
   "metadata": {},
   "outputs": [],
   "source": [
    "X['text'] = X['text'].apply(lambda x: ' '.join([word for word in x.split() if word not in (temp)]))"
   ]
  },
  {
   "cell_type": "code",
   "execution_count": 59,
   "id": "b5231adc",
   "metadata": {},
   "outputs": [
    {
     "data": {
      "text/plain": [
       "0        oh forgot also mention weird color effect phone.\n",
       "1                                    one not work either.\n",
       "2                                            waste bucks.\n",
       "3       product useless, since not enough charging cur...\n",
       "4          none three sizes sent headset would stay ears.\n",
       "                              ...                        \n",
       "2995                       great restaurant mandalay bay.\n",
       "2996               could care less... interior beautiful.\n",
       "2997    consistent thread holding series together amaz...\n",
       "2998    side greek salad greek dressing tasty, pita hu...\n",
       "2999    however, recent experience particular location...\n",
       "Name: text, Length: 3000, dtype: object"
      ]
     },
     "execution_count": 59,
     "metadata": {},
     "output_type": "execute_result"
    }
   ],
   "source": [
    "X['text']"
   ]
  },
  {
   "cell_type": "markdown",
   "id": "288203cd",
   "metadata": {},
   "source": [
    "#### remove punctation"
   ]
  },
  {
   "cell_type": "code",
   "execution_count": 60,
   "id": "52d0e68f",
   "metadata": {},
   "outputs": [],
   "source": [
    "from nltk.tokenize import RegexpTokenizer\n",
    "X['text'] = X['text'].str.replace('[^\\w\\s]','')"
   ]
  },
  {
   "cell_type": "markdown",
   "id": "372e8773",
   "metadata": {},
   "source": [
    "#### Toeknize"
   ]
  },
  {
   "cell_type": "code",
   "execution_count": 61,
   "id": "6807ca67",
   "metadata": {},
   "outputs": [
    {
     "data": {
      "text/plain": [
       "0       [oh, forgot, also, mention, weird, color, effe...\n",
       "1                                [one, not, work, either]\n",
       "2                                          [waste, bucks]\n",
       "3       [product, useless, since, not, enough, chargin...\n",
       "4       [none, three, sizes, sent, headset, would, sta...\n",
       "                              ...                        \n",
       "2995                   [great, restaurant, mandalay, bay]\n",
       "2996             [could, care, less, interior, beautiful]\n",
       "2997    [consistent, thread, holding, series, together...\n",
       "2998    [side, greek, salad, greek, dressing, tasty, p...\n",
       "2999    [however, recent, experience, particular, loca...\n",
       "Name: text, Length: 3000, dtype: object"
      ]
     },
     "execution_count": 61,
     "metadata": {},
     "output_type": "execute_result"
    }
   ],
   "source": [
    "from nltk import word_tokenize\n",
    "X['text'] = X['text'].apply(lambda x: word_tokenize(x))\n",
    "X['text']"
   ]
  },
  {
   "cell_type": "markdown",
   "id": "795759d1",
   "metadata": {},
   "source": [
    "#### Porter Stem"
   ]
  },
  {
   "cell_type": "code",
   "execution_count": 62,
   "id": "9ca51d31",
   "metadata": {},
   "outputs": [],
   "source": [
    "from nltk.stem import PorterStemmer\n",
    "\n",
    "ps = PorterStemmer()\n",
    "for i in range(len(X['text'])):\n",
    "    for j in range(len(X['text'][i])):\n",
    "        X['text'][i][j] = ps.stem(X['text'][i][j])"
   ]
  },
  {
   "cell_type": "markdown",
   "id": "a1a6b304",
   "metadata": {},
   "source": [
    "#### Remove low frequency words"
   ]
  },
  {
   "cell_type": "code",
   "execution_count": 63,
   "id": "a6d17364",
   "metadata": {},
   "outputs": [
    {
     "data": {
      "text/plain": [
       "FreqDist({'not': 605, 'good': 228, 'great': 208, 'movi': 208, 'film': 184, 'phone': 174, 'one': 147, 'like': 142, 'work': 141, 'time': 136, ...})"
      ]
     },
     "execution_count": 63,
     "metadata": {},
     "output_type": "execute_result"
    }
   ],
   "source": [
    "text = []\n",
    "for i in range(len(X['text'])):\n",
    "    for j in range(len(X['text'][i])):\n",
    "        text.append(X['text'][i][j])\n",
    "        \n",
    "from nltk import FreqDist\n",
    "freq = FreqDist(text)\n",
    "freq"
   ]
  },
  {
   "cell_type": "code",
   "execution_count": 64,
   "id": "c10549f0",
   "metadata": {},
   "outputs": [
    {
     "data": {
      "text/plain": [
       "2276"
      ]
     },
     "execution_count": 64,
     "metadata": {},
     "output_type": "execute_result"
    }
   ],
   "source": [
    "low_freq_words = []\n",
    "for key, values in freq.items():\n",
    "    if values <= 1:\n",
    "        low_freq_words.append(key)\n",
    "len(low_freq_words)"
   ]
  },
  {
   "cell_type": "code",
   "execution_count": 65,
   "id": "67b8e099",
   "metadata": {},
   "outputs": [
    {
     "data": {
      "text/plain": [
       "0         oh forgot also mention weird color effect phone\n",
       "1                                     one not work either\n",
       "2                                               wast buck\n",
       "3       product useless sinc not enough charg current ...\n",
       "4                  none three size headset would stay ear\n",
       "                              ...                        \n",
       "2995                                    great restaur bay\n",
       "2996                               could care less beauti\n",
       "2997    consist hold seri togeth amaz perform two quie...\n",
       "2998    side greek salad greek dress tasti pita hummu ...\n",
       "2999        howev recent experi particular locat not good\n",
       "Name: text, Length: 3000, dtype: object"
      ]
     },
     "execution_count": 65,
     "metadata": {},
     "output_type": "execute_result"
    }
   ],
   "source": [
    "for i in range(len(X['text'])):\n",
    "    X['text'][i] = \" \".join(X['text'][i])\n",
    "X['text'] = X['text'].apply(lambda x: ' '.join([word for word in x.split() if word not in (low_freq_words)]))\n",
    "X['text']"
   ]
  },
  {
   "cell_type": "markdown",
   "id": "12b44456",
   "metadata": {},
   "source": [
    "### TF-IDF"
   ]
  },
  {
   "cell_type": "code",
   "execution_count": 66,
   "id": "689a9bb4",
   "metadata": {},
   "outputs": [
    {
     "name": "stdout",
     "output_type": "stream",
     "text": [
      "[[0. 0. 0. ... 0. 0. 0.]\n",
      " [0. 0. 0. ... 0. 0. 0.]\n",
      " [0. 0. 0. ... 0. 0. 0.]\n",
      " ...\n",
      " [0. 0. 0. ... 0. 0. 0.]\n",
      " [0. 0. 0. ... 0. 0. 0.]\n",
      " [0. 0. 0. ... 0. 0. 0.]]\n"
     ]
    },
    {
     "data": {
      "text/plain": [
       "(3000, 1835)"
      ]
     },
     "execution_count": 66,
     "metadata": {},
     "output_type": "execute_result"
    }
   ],
   "source": [
    "from sklearn.feature_extraction.text import TfidfVectorizer\n",
    "v = TfidfVectorizer()\n",
    "X = v.fit_transform(X['text'])\n",
    "print(x.toarray())\n",
    "X.shape"
   ]
  },
  {
   "cell_type": "code",
   "execution_count": 67,
   "id": "6e2305ac",
   "metadata": {},
   "outputs": [
    {
     "data": {
      "text/plain": [
       "(2400, 1835)"
      ]
     },
     "execution_count": 67,
     "metadata": {},
     "output_type": "execute_result"
    }
   ],
   "source": [
    "x = X[:2400, :]\n",
    "x.shape"
   ]
  },
  {
   "cell_type": "markdown",
   "id": "4c911ec9",
   "metadata": {},
   "source": [
    "### Train test split"
   ]
  },
  {
   "cell_type": "code",
   "execution_count": 68,
   "id": "ded7bba8",
   "metadata": {},
   "outputs": [],
   "source": [
    "from sklearn.model_selection import train_test_split\n",
    "x_train, x_test, y_train, y_test = train_test_split(x, y_train_df, test_size=0.4)"
   ]
  },
  {
   "cell_type": "markdown",
   "id": "3f6eed79",
   "metadata": {},
   "source": [
    "### Logistic Regression"
   ]
  },
  {
   "cell_type": "code",
   "execution_count": 69,
   "id": "d5d7fb6e",
   "metadata": {},
   "outputs": [
    {
     "data": {
      "text/plain": [
       "0.8270833333333333"
      ]
     },
     "execution_count": 69,
     "metadata": {},
     "output_type": "execute_result"
    }
   ],
   "source": [
    "from sklearn.linear_model import LogisticRegression\n",
    "from sklearn.model_selection import cross_validate\n",
    "\n",
    "lr_clf = LogisticRegression(random_state=0).fit(x_train, y_train)\n",
    "lr_clf.score(x_train,y_train)\n",
    "lr_clf.score(x_test,y_test)"
   ]
  },
  {
   "cell_type": "code",
   "execution_count": 71,
   "id": "3967e52c",
   "metadata": {},
   "outputs": [
    {
     "data": {
      "text/plain": [
       "<matplotlib.legend.Legend at 0x1c76ef4ab50>"
      ]
     },
     "execution_count": 71,
     "metadata": {},
     "output_type": "execute_result"
    },
    {
     "data": {
      "image/png": "[encoded data removed]",
      "text/plain": [
       "<Figure size 576x396 with 1 Axes>"
      ]
     },
     "metadata": {},
     "output_type": "display_data"
    }
   ],
   "source": [
    "C_grid = np.logspace(-10, 10, 19)\n",
    "\n",
    "train_score_list=[]\n",
    "test_score_list=[]\n",
    "for C in C_grid:\n",
    "    lr_clf = LogisticRegression(C=C,random_state=0, solver='lbfgs').fit(x, y_train_df)\n",
    "    cv_results = cross_validate(lr_clf, x, y_train_df, cv=5, return_train_score=True)\n",
    " #     score = cross_val_score(lr_clf ,x, y_train_df, cv=5).mean()\n",
    "    train_score_list.append(cv_results['train_score'].mean())\n",
    "    test_score_list.append(cv_results['test_score'].mean())\n",
    "train_error_list = 1 - np.array(train_score_list)\n",
    "test_error_list = 1 - np.array(test_score_list)\n",
    "\n",
    "lg_C_grid = np.log10(C_grid)\n",
    "plt.plot(lg_C_grid, train_error_list, label='Training Set')\n",
    "plt.plot(lg_C_grid, test_error_list, label='Testing Set', color='red')\n",
    "plt.xlabel('lgC')\n",
    "plt.ylabel('error rate')\n",
    "plt.title('lbfgs solver on different C value')\n",
    "plt.ylim((0,0.55))\n",
    "plt.legend()"
   ]
  },
  {
   "cell_type": "code",
   "execution_count": 72,
   "id": "9b66adbf",
   "metadata": {},
   "outputs": [
    {
     "data": {
      "text/plain": [
       "<matplotlib.legend.Legend at 0x1c76ed39f40>"
      ]
     },
     "execution_count": 72,
     "metadata": {},
     "output_type": "execute_result"
    },
    {
     "data": {
      "image/png": "[encoded data removed]",
      "text/plain": [
       "<Figure size 576x396 with 1 Axes>"
      ]
     },
     "metadata": {},
     "output_type": "display_data"
    }
   ],
   "source": [
    "train_score_list=[]\n",
    "test_score_list=[]\n",
    "for C in C_grid:\n",
    "    lr_clf = LogisticRegression(C=C,random_state=0, solver='sag').fit(x_train, y_train)\n",
    "    cv_results = cross_validate(lr_clf, x, y_train_df, cv=5, return_train_score=True)\n",
    " #     score = cross_val_score(lr_clf ,x, y_train_df, cv=5).mean()\n",
    "    train_score_list.append(cv_results['train_score'].mean())\n",
    "    test_score_list.append(cv_results['test_score'].mean())\n",
    "\n",
    "train_error_list = 1 - np.array(train_score_list)\n",
    "test_error_list = 1 - np.array(test_score_list)\n",
    "    \n",
    "lg_C_grid = np.log10(C_grid)\n",
    "plt.plot(lg_C_grid, train_error_list, label='Training Set')\n",
    "plt.plot(lg_C_grid, test_error_list, label='Testing Set', color='red')\n",
    "plt.ylim((0,0.55))\n",
    "plt.xlabel('lgC')\n",
    "plt.ylabel('error rate')\n",
    "plt.title('sag solver on different C value')\n",
    "plt.legend()  "
   ]
  },
  {
   "cell_type": "code",
   "execution_count": 73,
   "id": "cc14f5bf",
   "metadata": {},
   "outputs": [
    {
     "data": {
      "text/plain": [
       "<matplotlib.legend.Legend at 0x1c76ed8ac70>"
      ]
     },
     "execution_count": 73,
     "metadata": {},
     "output_type": "execute_result"
    },
    {
     "data": {
      "image/png": "[encoded data removed]",
      "text/plain": [
       "<Figure size 576x396 with 1 Axes>"
      ]
     },
     "metadata": {},
     "output_type": "display_data"
    }
   ],
   "source": [
    "train_score_list=[]\n",
    "test_score_list=[]\n",
    "for C in C_grid:\n",
    "    lr_clf = LogisticRegression(C=C,random_state=0, solver='newton-cg').fit(x, y_train_df)\n",
    "    cv_results = cross_validate(lr_clf, x, y_train_df, cv=5, return_train_score=True)\n",
    " #     score = cross_val_score(lr_clf ,x, y_train_df, cv=5).mean()\n",
    "    train_score_list.append(cv_results['train_score'].mean())\n",
    "    test_score_list.append(cv_results['test_score'].mean())\n",
    "\n",
    "train_error_list = 1 - np.array(train_score_list)\n",
    "test_error_list = 1 - np.array(test_score_list)    \n",
    "    \n",
    "lg_C_grid = np.log10(C_grid)\n",
    "plt.plot(lg_C_grid, train_error_list, label='Training Set')\n",
    "plt.plot(lg_C_grid, test_error_list, label='Testing Set', color='red')\n",
    "plt.ylim((0,0.55))\n",
    "plt.xlabel('lgC')\n",
    "plt.ylabel('error rate')\n",
    "plt.title('newton-cg solver on different C value')\n",
    "plt.legend()   "
   ]
  },
  {
   "cell_type": "code",
   "execution_count": 74,
   "id": "9e1284e9",
   "metadata": {},
   "outputs": [
    {
     "data": {
      "text/html": [
       "<style>#sk-container-id-1 {color: black;background-color: white;}#sk-container-id-1 pre{padding: 0;}#sk-container-id-1 div.sk-toggleable {background-color: white;}#sk-container-id-1 label.sk-toggleable__label {cursor: pointer;display: block;width: 100%;margin-bottom: 0;padding: 0.3em;box-sizing: border-box;text-align: center;}#sk-container-id-1 label.sk-toggleable__label-arrow:before {content: \"▸\";float: left;margin-right: 0.25em;color: #696969;}#sk-container-id-1 label.sk-toggleable__label-arrow:hover:before {color: black;}#sk-container-id-1 div.sk-estimator:hover label.sk-toggleable__label-arrow:before {color: black;}#sk-container-id-1 div.sk-toggleable__content {max-height: 0;max-width: 0;overflow: hidden;text-align: left;background-color: #f0f8ff;}#sk-container-id-1 div.sk-toggleable__content pre {margin: 0.2em;color: black;border-radius: 0.25em;background-color: #f0f8ff;}#sk-container-id-1 input.sk-toggleable__control:checked~div.sk-toggleable__content {max-height: 200px;max-width: 100%;overflow: auto;}#sk-container-id-1 input.sk-toggleable__control:checked~label.sk-toggleable__label-arrow:before {content: \"▾\";}#sk-container-id-1 div.sk-estimator input.sk-toggleable__control:checked~label.sk-toggleable__label {background-color: #d4ebff;}#sk-container-id-1 div.sk-label input.sk-toggleable__control:checked~label.sk-toggleable__label {background-color: #d4ebff;}#sk-container-id-1 input.sk-hidden--visually {border: 0;clip: rect(1px 1px 1px 1px);clip: rect(1px, 1px, 1px, 1px);height: 1px;margin: -1px;overflow: hidden;padding: 0;position: absolute;width: 1px;}#sk-container-id-1 div.sk-estimator {font-family: monospace;background-color: #f0f8ff;border: 1px dotted black;border-radius: 0.25em;box-sizing: border-box;margin-bottom: 0.5em;}#sk-container-id-1 div.sk-estimator:hover {background-color: #d4ebff;}#sk-container-id-1 div.sk-parallel-item::after {content: \"\";width: 100%;border-bottom: 1px solid gray;flex-grow: 1;}#sk-container-id-1 div.sk-label:hover label.sk-toggleable__label {background-color: #d4ebff;}#sk-container-id-1 div.sk-serial::before {content: \"\";position: absolute;border-left: 1px solid gray;box-sizing: border-box;top: 0;bottom: 0;left: 50%;z-index: 0;}#sk-container-id-1 div.sk-serial {display: flex;flex-direction: column;align-items: center;background-color: white;padding-right: 0.2em;padding-left: 0.2em;position: relative;}#sk-container-id-1 div.sk-item {position: relative;z-index: 1;}#sk-container-id-1 div.sk-parallel {display: flex;align-items: stretch;justify-content: center;background-color: white;position: relative;}#sk-container-id-1 div.sk-item::before, #sk-container-id-1 div.sk-parallel-item::before {content: \"\";position: absolute;border-left: 1px solid gray;box-sizing: border-box;top: 0;bottom: 0;left: 50%;z-index: -1;}#sk-container-id-1 div.sk-parallel-item {display: flex;flex-direction: column;z-index: 1;position: relative;background-color: white;}#sk-container-id-1 div.sk-parallel-item:first-child::after {align-self: flex-end;width: 50%;}#sk-container-id-1 div.sk-parallel-item:last-child::after {align-self: flex-start;width: 50%;}#sk-container-id-1 div.sk-parallel-item:only-child::after {width: 0;}#sk-container-id-1 div.sk-dashed-wrapped {border: 1px dashed gray;margin: 0 0.4em 0.5em 0.4em;box-sizing: border-box;padding-bottom: 0.4em;background-color: white;}#sk-container-id-1 div.sk-label label {font-family: monospace;font-weight: bold;display: inline-block;line-height: 1.2em;}#sk-container-id-1 div.sk-label-container {text-align: center;}#sk-container-id-1 div.sk-container {/* jupyter's `normalize.less` sets `[hidden] { display: none; }` but bootstrap.min.css set `[hidden] { display: none !important; }` so we also need the `!important` here to be able to override the default hidden behavior on the sphinx rendered scikit-learn.org. See: https://github.com/scikit-learn/scikit-learn/issues/21755 */display: inline-block !important;position: relative;}#sk-container-id-1 div.sk-text-repr-fallback {display: none;}</style><div id=\"sk-container-id-1\" class=\"sk-top-container\"><div class=\"sk-text-repr-fallback\"><pre>GridSearchCV(cv=5, estimator=LogisticRegression(),\n",
       "             param_grid={&#x27;C&#x27;: array([1.00000000e-10, 1.29154967e-09, 1.66810054e-08, 2.15443469e-07,\n",
       "       2.78255940e-06, 3.59381366e-05, 4.64158883e-04, 5.99484250e-03,\n",
       "       7.74263683e-02, 1.00000000e+00, 1.29154967e+01, 1.66810054e+02,\n",
       "       2.15443469e+03, 2.78255940e+04, 3.59381366e+05, 4.64158883e+06,\n",
       "       5.99484250e+07, 7.74263683e+08, 1.00000000e+10]),\n",
       "                         &#x27;solver&#x27;: (&#x27;sag&#x27;, &#x27;lbfgs&#x27;, &#x27;newton-cg&#x27;)})</pre><b>In a Jupyter environment, please rerun this cell to show the HTML representation or trust the notebook. <br />On GitHub, the HTML representation is unable to render, please try loading this page with nbviewer.org.</b></div><div class=\"sk-container\" hidden><div class=\"sk-item sk-dashed-wrapped\"><div class=\"sk-label-container\"><div class=\"sk-label sk-toggleable\"><input class=\"sk-toggleable__control sk-hidden--visually\" id=\"sk-estimator-id-1\" type=\"checkbox\" ><label for=\"sk-estimator-id-1\" class=\"sk-toggleable__label sk-toggleable__label-arrow\">GridSearchCV</label><div class=\"sk-toggleable__content\"><pre>GridSearchCV(cv=5, estimator=LogisticRegression(),\n",
       "             param_grid={&#x27;C&#x27;: array([1.00000000e-10, 1.29154967e-09, 1.66810054e-08, 2.15443469e-07,\n",
       "       2.78255940e-06, 3.59381366e-05, 4.64158883e-04, 5.99484250e-03,\n",
       "       7.74263683e-02, 1.00000000e+00, 1.29154967e+01, 1.66810054e+02,\n",
       "       2.15443469e+03, 2.78255940e+04, 3.59381366e+05, 4.64158883e+06,\n",
       "       5.99484250e+07, 7.74263683e+08, 1.00000000e+10]),\n",
       "                         &#x27;solver&#x27;: (&#x27;sag&#x27;, &#x27;lbfgs&#x27;, &#x27;newton-cg&#x27;)})</pre></div></div></div><div class=\"sk-parallel\"><div class=\"sk-parallel-item\"><div class=\"sk-item\"><div class=\"sk-label-container\"><div class=\"sk-label sk-toggleable\"><input class=\"sk-toggleable__control sk-hidden--visually\" id=\"sk-estimator-id-2\" type=\"checkbox\" ><label for=\"sk-estimator-id-2\" class=\"sk-toggleable__label sk-toggleable__label-arrow\">estimator: LogisticRegression</label><div class=\"sk-toggleable__content\"><pre>LogisticRegression()</pre></div></div></div><div class=\"sk-serial\"><div class=\"sk-item\"><div class=\"sk-estimator sk-toggleable\"><input class=\"sk-toggleable__control sk-hidden--visually\" id=\"sk-estimator-id-3\" type=\"checkbox\" ><label for=\"sk-estimator-id-3\" class=\"sk-toggleable__label sk-toggleable__label-arrow\">LogisticRegression</label><div class=\"sk-toggleable__content\"><pre>LogisticRegression()</pre></div></div></div></div></div></div></div></div></div></div>"
      ],
      "text/plain": [
       "GridSearchCV(cv=5, estimator=LogisticRegression(),\n",
       "             param_grid={'C': array([1.00000000e-10, 1.29154967e-09, 1.66810054e-08, 2.15443469e-07,\n",
       "       2.78255940e-06, 3.59381366e-05, 4.64158883e-04, 5.99484250e-03,\n",
       "       7.74263683e-02, 1.00000000e+00, 1.29154967e+01, 1.66810054e+02,\n",
       "       2.15443469e+03, 2.78255940e+04, 3.59381366e+05, 4.64158883e+06,\n",
       "       5.99484250e+07, 7.74263683e+08, 1.00000000e+10]),\n",
       "                         'solver': ('sag', 'lbfgs', 'newton-cg')})"
      ]
     },
     "execution_count": 74,
     "metadata": {},
     "output_type": "execute_result"
    }
   ],
   "source": [
    "from sklearn.model_selection import GridSearchCV\n",
    "parameters = {'solver':('sag', 'lbfgs', 'newton-cg'), 'C':C_grid}\n",
    "lr = LogisticRegression()\n",
    "clf = GridSearchCV(lr, parameters, cv=5)\n",
    "clf.fit(x, y_train_df)"
   ]
  },
  {
   "cell_type": "code",
   "execution_count": 75,
   "id": "75038642",
   "metadata": {},
   "outputs": [
    {
     "name": "stdout",
     "output_type": "stream",
     "text": [
      "0.8225\n",
      "{'C': 1.0, 'solver': 'sag'}\n"
     ]
    }
   ],
   "source": [
    "print(clf.best_score_)\n",
    "print(clf.best_params_)"
   ]
  },
  {
   "cell_type": "markdown",
   "id": "6bb98c54",
   "metadata": {},
   "source": [
    "###  MLP"
   ]
  },
  {
   "cell_type": "code",
   "execution_count": 76,
   "id": "fb10c384",
   "metadata": {},
   "outputs": [
    {
     "data": {
      "text/plain": [
       "0.7447916666666666"
      ]
     },
     "execution_count": 76,
     "metadata": {},
     "output_type": "execute_result"
    }
   ],
   "source": [
    "from sklearn.neural_network import MLPClassifier\n",
    "\n",
    "mlp = MLPClassifier(hidden_layer_sizes=2, alpha=0.001 ,activation='logistic', max_iter=200, learning_rate='adaptive', random_state=0).fit(x_train, y_train)\n",
    "mlp.score(x_test, y_test)"
   ]
  },
  {
   "cell_type": "code",
   "execution_count": 78,
   "id": "a64ab658",
   "metadata": {},
   "outputs": [],
   "source": [
    "hidden_layers_list = np.arange(1, 10)"
   ]
  },
  {
   "cell_type": "code",
   "execution_count": 79,
   "id": "3c1b4732",
   "metadata": {},
   "outputs": [
    {
     "data": {
      "text/plain": [
       "<matplotlib.legend.Legend at 0x1c770f633d0>"
      ]
     },
     "execution_count": 79,
     "metadata": {},
     "output_type": "execute_result"
    },
    {
     "data": {
      "image/png": "[encoded data removed]",
      "text/plain": [
       "<Figure size 576x396 with 1 Axes>"
      ]
     },
     "metadata": {},
     "output_type": "display_data"
    }
   ],
   "source": [
    "train_score_list=[]\n",
    "test_score_list=[]\n",
    "for h in hidden_layers_list:\n",
    "    mlp = MLPClassifier(hidden_layer_sizes=h,random_state=0, activation='relu', learning_rate='adaptive', max_iter=200).fit(x, y_train_df)\n",
    "    cv_results = cross_validate(mlp, x, y_train_df, cv=5, return_train_score=True)\n",
    " #     score = cross_val_score(lr_clf ,x, y_train_df, cv=5).mean()\n",
    "    train_score_list.append(cv_results['train_score'].mean())\n",
    "    test_score_list.append(cv_results['test_score'].mean())\n",
    "train_error_list = 1 - np.array(train_score_list)\n",
    "test_error_list = 1 - np.array(test_score_list)\n",
    "\n",
    "plt.plot(hidden_layers_list, train_error_list, label='Training Set')\n",
    "plt.plot(hidden_layers_list, test_error_list, label='Testing Set', color='red')\n",
    "plt.xlabel('hidden layers size')\n",
    "plt.ylabel('error rate')\n",
    "plt.title('relu activation on different hidden layer sizes')\n",
    "plt.ylim((0,0.55))\n",
    "plt.legend()\n"
   ]
  },
  {
   "cell_type": "code",
   "execution_count": 80,
   "id": "7dde6695",
   "metadata": {},
   "outputs": [
    {
     "data": {
      "text/plain": [
       "<matplotlib.legend.Legend at 0x1c771fc1e50>"
      ]
     },
     "execution_count": 80,
     "metadata": {},
     "output_type": "execute_result"
    },
    {
     "data": {
      "image/png": "[encoded data removed]",
      "text/plain": [
       "<Figure size 576x396 with 1 Axes>"
      ]
     },
     "metadata": {},
     "output_type": "display_data"
    }
   ],
   "source": [
    "train_score_list=[]\n",
    "test_score_list=[]\n",
    "for h in hidden_layers_list:\n",
    "    mlp = MLPClassifier(hidden_layer_sizes=h,random_state=0, activation='logistic', max_iter=200).fit(x, y_train_df)\n",
    "    cv_results = cross_validate(mlp, x, y_train_df, cv=5, return_train_score=True)\n",
    " #     score = cross_val_score(lr_clf ,x, y_train_df, cv=5).mean()\n",
    "    train_score_list.append(cv_results['train_score'].mean())\n",
    "    test_score_list.append(cv_results['test_score'].mean())\n",
    "train_error_list = 1 - np.array(train_score_list)\n",
    "test_error_list = 1 - np.array(test_score_list)\n",
    "\n",
    "plt.plot(hidden_layers_list, train_error_list, label='Training Set')\n",
    "plt.plot(hidden_layers_list, test_error_list, label='Testing Set', color='red')\n",
    "plt.xlabel('hidden layers size')\n",
    "plt.ylabel('error rate')\n",
    "plt.title('logistic activation on different hidden layer sizes')\n",
    "plt.ylim((0,0.55))\n",
    "plt.legend()"
   ]
  },
  {
   "cell_type": "code",
   "execution_count": 81,
   "id": "c869f378",
   "metadata": {},
   "outputs": [
    {
     "data": {
      "text/plain": [
       "<matplotlib.legend.Legend at 0x1c7720283a0>"
      ]
     },
     "execution_count": 81,
     "metadata": {},
     "output_type": "execute_result"
    },
    {
     "data": {
      "image/png": "[encoded data removed]",
      "text/plain": [
       "<Figure size 576x396 with 1 Axes>"
      ]
     },
     "metadata": {},
     "output_type": "display_data"
    }
   ],
   "source": [
    "train_score_list=[]\n",
    "test_score_list=[]\n",
    "for h in hidden_layers_list:\n",
    "    mlp = MLPClassifier(hidden_layer_sizes=h,random_state=0, activation='tanh', max_iter=200).fit(x, y_train_df)\n",
    "    cv_results = cross_validate(mlp, x, y_train_df, cv=5, return_train_score=True)\n",
    " #     score = cross_val_score(lr_clf ,x, y_train_df, cv=5).mean()\n",
    "    train_score_list.append(cv_results['train_score'].mean())\n",
    "    test_score_list.append(cv_results['test_score'].mean())\n",
    "train_error_list = 1 - np.array(train_score_list)\n",
    "test_error_list = 1 - np.array(test_score_list)\n",
    "\n",
    "plt.plot(hidden_layers_list, train_error_list, label='Training Set')\n",
    "plt.plot(hidden_layers_list, test_error_list, label='Testing Set', color='red')\n",
    "plt.xlabel('hidden layers size')\n",
    "plt.ylabel('error rate')\n",
    "plt.title('tanh activation on different hidden layer sizes')\n",
    "plt.ylim((0,0.55))\n",
    "plt.legend()"
   ]
  },
  {
   "cell_type": "code",
   "execution_count": 82,
   "id": "6cf610a6",
   "metadata": {},
   "outputs": [
    {
     "data": {
      "text/plain": [
       "<matplotlib.legend.Legend at 0x1c77209d6d0>"
      ]
     },
     "execution_count": 82,
     "metadata": {},
     "output_type": "execute_result"
    },
    {
     "data": {
      "image/png": "[encoded data removed]",
      "text/plain": [
       "<Figure size 576x396 with 1 Axes>"
      ]
     },
     "metadata": {},
     "output_type": "display_data"
    }
   ],
   "source": [
    "train_score_list=[]\n",
    "test_score_list=[]\n",
    "for h in hidden_layers_list:\n",
    "    mlp = MLPClassifier(hidden_layer_sizes=h,random_state=0, activation='identity', max_iter=200).fit(x, y_train_df)\n",
    "    cv_results = cross_validate(mlp, x, y_train_df, cv=5, return_train_score=True)\n",
    " #     score = cross_val_score(lr_clf ,x, y_train_df, cv=5).mean()\n",
    "    train_score_list.append(cv_results['train_score'].mean())\n",
    "    test_score_list.append(cv_results['test_score'].mean())\n",
    "train_error_list = 1 - np.array(train_score_list)\n",
    "test_error_list = 1 - np.array(test_score_list)\n",
    "\n",
    "plt.plot(hidden_layers_list, train_error_list, label='Training Set')\n",
    "plt.plot(hidden_layers_list, test_error_list, label='Testing Set', color='red')\n",
    "plt.xlabel('hidden layers size')\n",
    "plt.ylabel('error rate')\n",
    "plt.title('identity activation on different hidden layer sizes')\n",
    "plt.ylim((0,0.55))\n",
    "plt.legend()"
   ]
  },
  {
   "cell_type": "code",
   "execution_count": 83,
   "id": "0e80d756",
   "metadata": {},
   "outputs": [
    {
     "data": {
      "text/html": [
       "<style>#sk-container-id-2 {color: black;background-color: white;}#sk-container-id-2 pre{padding: 0;}#sk-container-id-2 div.sk-toggleable {background-color: white;}#sk-container-id-2 label.sk-toggleable__label {cursor: pointer;display: block;width: 100%;margin-bottom: 0;padding: 0.3em;box-sizing: border-box;text-align: center;}#sk-container-id-2 label.sk-toggleable__label-arrow:before {content: \"▸\";float: left;margin-right: 0.25em;color: #696969;}#sk-container-id-2 label.sk-toggleable__label-arrow:hover:before {color: black;}#sk-container-id-2 div.sk-estimator:hover label.sk-toggleable__label-arrow:before {color: black;}#sk-container-id-2 div.sk-toggleable__content {max-height: 0;max-width: 0;overflow: hidden;text-align: left;background-color: #f0f8ff;}#sk-container-id-2 div.sk-toggleable__content pre {margin: 0.2em;color: black;border-radius: 0.25em;background-color: #f0f8ff;}#sk-container-id-2 input.sk-toggleable__control:checked~div.sk-toggleable__content {max-height: 200px;max-width: 100%;overflow: auto;}#sk-container-id-2 input.sk-toggleable__control:checked~label.sk-toggleable__label-arrow:before {content: \"▾\";}#sk-container-id-2 div.sk-estimator input.sk-toggleable__control:checked~label.sk-toggleable__label {background-color: #d4ebff;}#sk-container-id-2 div.sk-label input.sk-toggleable__control:checked~label.sk-toggleable__label {background-color: #d4ebff;}#sk-container-id-2 input.sk-hidden--visually {border: 0;clip: rect(1px 1px 1px 1px);clip: rect(1px, 1px, 1px, 1px);height: 1px;margin: -1px;overflow: hidden;padding: 0;position: absolute;width: 1px;}#sk-container-id-2 div.sk-estimator {font-family: monospace;background-color: #f0f8ff;border: 1px dotted black;border-radius: 0.25em;box-sizing: border-box;margin-bottom: 0.5em;}#sk-container-id-2 div.sk-estimator:hover {background-color: #d4ebff;}#sk-container-id-2 div.sk-parallel-item::after {content: \"\";width: 100%;border-bottom: 1px solid gray;flex-grow: 1;}#sk-container-id-2 div.sk-label:hover label.sk-toggleable__label {background-color: #d4ebff;}#sk-container-id-2 div.sk-serial::before {content: \"\";position: absolute;border-left: 1px solid gray;box-sizing: border-box;top: 0;bottom: 0;left: 50%;z-index: 0;}#sk-container-id-2 div.sk-serial {display: flex;flex-direction: column;align-items: center;background-color: white;padding-right: 0.2em;padding-left: 0.2em;position: relative;}#sk-container-id-2 div.sk-item {position: relative;z-index: 1;}#sk-container-id-2 div.sk-parallel {display: flex;align-items: stretch;justify-content: center;background-color: white;position: relative;}#sk-container-id-2 div.sk-item::before, #sk-container-id-2 div.sk-parallel-item::before {content: \"\";position: absolute;border-left: 1px solid gray;box-sizing: border-box;top: 0;bottom: 0;left: 50%;z-index: -1;}#sk-container-id-2 div.sk-parallel-item {display: flex;flex-direction: column;z-index: 1;position: relative;background-color: white;}#sk-container-id-2 div.sk-parallel-item:first-child::after {align-self: flex-end;width: 50%;}#sk-container-id-2 div.sk-parallel-item:last-child::after {align-self: flex-start;width: 50%;}#sk-container-id-2 div.sk-parallel-item:only-child::after {width: 0;}#sk-container-id-2 div.sk-dashed-wrapped {border: 1px dashed gray;margin: 0 0.4em 0.5em 0.4em;box-sizing: border-box;padding-bottom: 0.4em;background-color: white;}#sk-container-id-2 div.sk-label label {font-family: monospace;font-weight: bold;display: inline-block;line-height: 1.2em;}#sk-container-id-2 div.sk-label-container {text-align: center;}#sk-container-id-2 div.sk-container {/* jupyter's `normalize.less` sets `[hidden] { display: none; }` but bootstrap.min.css set `[hidden] { display: none !important; }` so we also need the `!important` here to be able to override the default hidden behavior on the sphinx rendered scikit-learn.org. See: https://github.com/scikit-learn/scikit-learn/issues/21755 */display: inline-block !important;position: relative;}#sk-container-id-2 div.sk-text-repr-fallback {display: none;}</style><div id=\"sk-container-id-2\" class=\"sk-top-container\"><div class=\"sk-text-repr-fallback\"><pre>GridSearchCV(cv=5, estimator=MLPClassifier(),\n",
       "             param_grid={&#x27;activation&#x27;: (&#x27;tanh&#x27;, &#x27;relu&#x27;, &#x27;logistic&#x27;, &#x27;identity&#x27;),\n",
       "                         &#x27;hidden_layer_sizes&#x27;: array([1, 2, 3, 4, 5, 6, 7, 8, 9])})</pre><b>In a Jupyter environment, please rerun this cell to show the HTML representation or trust the notebook. <br />On GitHub, the HTML representation is unable to render, please try loading this page with nbviewer.org.</b></div><div class=\"sk-container\" hidden><div class=\"sk-item sk-dashed-wrapped\"><div class=\"sk-label-container\"><div class=\"sk-label sk-toggleable\"><input class=\"sk-toggleable__control sk-hidden--visually\" id=\"sk-estimator-id-4\" type=\"checkbox\" ><label for=\"sk-estimator-id-4\" class=\"sk-toggleable__label sk-toggleable__label-arrow\">GridSearchCV</label><div class=\"sk-toggleable__content\"><pre>GridSearchCV(cv=5, estimator=MLPClassifier(),\n",
       "             param_grid={&#x27;activation&#x27;: (&#x27;tanh&#x27;, &#x27;relu&#x27;, &#x27;logistic&#x27;, &#x27;identity&#x27;),\n",
       "                         &#x27;hidden_layer_sizes&#x27;: array([1, 2, 3, 4, 5, 6, 7, 8, 9])})</pre></div></div></div><div class=\"sk-parallel\"><div class=\"sk-parallel-item\"><div class=\"sk-item\"><div class=\"sk-label-container\"><div class=\"sk-label sk-toggleable\"><input class=\"sk-toggleable__control sk-hidden--visually\" id=\"sk-estimator-id-5\" type=\"checkbox\" ><label for=\"sk-estimator-id-5\" class=\"sk-toggleable__label sk-toggleable__label-arrow\">estimator: MLPClassifier</label><div class=\"sk-toggleable__content\"><pre>MLPClassifier()</pre></div></div></div><div class=\"sk-serial\"><div class=\"sk-item\"><div class=\"sk-estimator sk-toggleable\"><input class=\"sk-toggleable__control sk-hidden--visually\" id=\"sk-estimator-id-6\" type=\"checkbox\" ><label for=\"sk-estimator-id-6\" class=\"sk-toggleable__label sk-toggleable__label-arrow\">MLPClassifier</label><div class=\"sk-toggleable__content\"><pre>MLPClassifier()</pre></div></div></div></div></div></div></div></div></div></div>"
      ],
      "text/plain": [
       "GridSearchCV(cv=5, estimator=MLPClassifier(),\n",
       "             param_grid={'activation': ('tanh', 'relu', 'logistic', 'identity'),\n",
       "                         'hidden_layer_sizes': array([1, 2, 3, 4, 5, 6, 7, 8, 9])})"
      ]
     },
     "execution_count": 83,
     "metadata": {},
     "output_type": "execute_result"
    }
   ],
   "source": [
    "parameters = {'activation':('tanh', 'relu', 'logistic', 'identity'), 'hidden_layer_sizes': hidden_layers_list}\n",
    "mlp = MLPClassifier()\n",
    "clf = GridSearchCV(mlp, parameters, cv=5)\n",
    "clf.fit(x, y_train_df)"
   ]
  },
  {
   "cell_type": "code",
   "execution_count": 84,
   "id": "b1728e0d",
   "metadata": {},
   "outputs": [
    {
     "name": "stdout",
     "output_type": "stream",
     "text": [
      "0.8025\n",
      "{'activation': 'logistic', 'hidden_layer_sizes': 7}\n"
     ]
    }
   ],
   "source": [
    "print(clf.best_score_)\n",
    "print(clf.best_params_)"
   ]
  },
  {
   "cell_type": "markdown",
   "id": "47750909",
   "metadata": {},
   "source": [
    "### SVM"
   ]
  },
  {
   "cell_type": "code",
   "execution_count": 85,
   "id": "97f7a783",
   "metadata": {},
   "outputs": [
    {
     "data": {
      "text/plain": [
       "0.8291666666666667"
      ]
     },
     "execution_count": 85,
     "metadata": {},
     "output_type": "execute_result"
    }
   ],
   "source": [
    "from sklearn.svm import SVC\n",
    "from sklearn.pipeline import make_pipeline\n",
    "from sklearn.preprocessing import StandardScaler\n",
    "\n",
    "# clf = make_pipeline(StandardScaler(with_mean=False), SVC())\n",
    "clf = SVC(kernel='linear').fit(x_train, y_train)\n",
    "clf.score(x_test, y_test)"
   ]
  },
  {
   "cell_type": "code",
   "execution_count": 90,
   "id": "10a93515",
   "metadata": {},
   "outputs": [
    {
     "data": {
      "text/plain": [
       "array([1.00000000e-05, 3.59381366e-05, 1.29154967e-04, 4.64158883e-04,\n",
       "       1.66810054e-03, 5.99484250e-03, 2.15443469e-02, 7.74263683e-02,\n",
       "       2.78255940e-01, 1.00000000e+00, 3.59381366e+00, 1.29154967e+01,\n",
       "       4.64158883e+01, 1.66810054e+02, 5.99484250e+02, 2.15443469e+03,\n",
       "       7.74263683e+03, 2.78255940e+04, 1.00000000e+05])"
      ]
     },
     "execution_count": 90,
     "metadata": {},
     "output_type": "execute_result"
    }
   ],
   "source": [
    "C_grid = np.logspace(-5, 5, 19)\n",
    "C_grid"
   ]
  },
  {
   "cell_type": "code",
   "execution_count": 86,
   "id": "6b2af062",
   "metadata": {},
   "outputs": [
    {
     "name": "stdout",
     "output_type": "stream",
     "text": [
      "test score: [0.6808333333333334, 0.6808333333333334, 0.6808333333333334, 0.6808333333333334, 0.6808333333333334, 0.6808333333333334, 0.6808333333333334, 0.6933333333333332, 0.8041666666666666, 0.8245833333333333, 0.83125, 0.8291666666666666, 0.8291666666666666, 0.8291666666666666, 0.8291666666666666, 0.8291666666666666, 0.8291666666666666, 0.8291666666666666, 0.8291666666666666]\n",
      "test error rate: [0.31916667 0.31916667 0.31916667 0.31916667 0.31916667 0.31916667\n",
      " 0.31916667 0.30666667 0.19583333 0.17541667 0.16875    0.17083333\n",
      " 0.17083333 0.17083333 0.17083333 0.17083333 0.17083333 0.17083333\n",
      " 0.17083333]\n"
     ]
    },
    {
     "data": {
      "image/png": "[encoded data removed]",
      "text/plain": [
       "<Figure size 576x396 with 1 Axes>"
      ]
     },
     "metadata": {},
     "output_type": "display_data"
    }
   ],
   "source": [
    "from sklearn.model_selection import cross_validate\n",
    "\n",
    "C_grid = np.logspace(-5, 5, 19)\n",
    "\n",
    "train_score_list=[]\n",
    "test_score_list=[]\n",
    "for C in C_grid:\n",
    "    svm_clf = SVC(C=C,random_state=666, kernel='rbf')\n",
    "    cv_results = cross_validate(svm_clf, x, y_train_df, cv=5, return_train_score=True)\n",
    "    train_score_list.append(cv_results['train_score'].mean())\n",
    "    test_score_list.append(cv_results['test_score'].mean())  \n",
    "\n",
    "train_error_list = 1 - np.array(train_score_list)\n",
    "test_error_list = 1 - np.array(test_score_list)\n",
    "\n",
    "lg_C_grid = np.log10(C_grid)\n",
    "plt.plot(lg_C_grid, train_error_list, label='Training Set')\n",
    "plt.plot(lg_C_grid, test_error_list, label='Testing Set', color='red')\n",
    "plt.xlabel('lgC')\n",
    "plt.ylabel('error rate')\n",
    "plt.title('rbf on different C value')\n",
    "plt.ylim((0,0.55))\n",
    "plt.legend()\n",
    "\n",
    "print(\"test score:\", test_score_list)\n",
    "print(\"test error rate:\", test_error_list)"
   ]
  },
  {
   "cell_type": "code",
   "execution_count": 87,
   "id": "9ee2e75e",
   "metadata": {},
   "outputs": [
    {
     "name": "stdout",
     "output_type": "stream",
     "text": [
      "test score: [0.6820833333333334, 0.6820833333333334, 0.6820833333333334, 0.6820833333333334, 0.6820833333333334, 0.6820833333333334, 0.6820833333333334, 0.7887500000000001, 0.8179166666666665, 0.8216666666666667, 0.7970833333333333, 0.7700000000000001, 0.7554166666666666, 0.7454166666666666, 0.7274999999999999, 0.73125, 0.7320833333333334, 0.7383333333333333, 0.7299999999999999]\n",
      "test error rate: [0.31791667 0.31791667 0.31791667 0.31791667 0.31791667 0.31791667\n",
      " 0.31791667 0.21125    0.18208333 0.17833333 0.20291667 0.23\n",
      " 0.24458333 0.25458333 0.2725     0.26875    0.26791667 0.26166667\n",
      " 0.27      ]\n"
     ]
    },
    {
     "data": {
      "image/png": "[encoded data removed]",
      "text/plain": [
       "<Figure size 576x396 with 1 Axes>"
      ]
     },
     "metadata": {},
     "output_type": "display_data"
    }
   ],
   "source": [
    "train_score_list=[]\n",
    "test_score_list=[]\n",
    "for C in C_grid:\n",
    "    svm_clf = SVC(C=C,random_state=666, kernel='sigmoid')\n",
    "    cv_results = cross_validate(svm_clf, x, y_train_df, cv=5, return_train_score=True)\n",
    "    train_score_list.append(cv_results['train_score'].mean())\n",
    "    test_score_list.append(cv_results['test_score'].mean())  \n",
    "\n",
    "train_error_list = 1 - np.array(train_score_list)\n",
    "test_error_list = 1 - np.array(test_score_list)\n",
    "\n",
    "lg_C_grid = np.log10(C_grid)\n",
    "plt.plot(lg_C_grid, train_error_list, label='Training Set')\n",
    "plt.plot(lg_C_grid, test_error_list, label='Testing Set', color='red')\n",
    "plt.xlabel('lgC')\n",
    "plt.ylabel('error rate')\n",
    "plt.title('sigmoid on different C value')\n",
    "plt.ylim((0,0.55))\n",
    "plt.legend()\n",
    "\n",
    "print(\"test score:\", test_score_list)\n",
    "print(\"test error rate:\", test_error_list)"
   ]
  },
  {
   "cell_type": "code",
   "execution_count": 88,
   "id": "8312727b",
   "metadata": {},
   "outputs": [
    {
     "name": "stdout",
     "output_type": "stream",
     "text": [
      "test score: [0.63625, 0.63625, 0.63625, 0.63625, 0.63625, 0.63625, 0.63625, 0.63625, 0.70375, 0.7941666666666667, 0.7933333333333332, 0.7925000000000001, 0.7716666666666667, 0.7133333333333333, 0.6245833333333334, 0.6054166666666667, 0.6054166666666667, 0.6054166666666667, 0.6054166666666667]\n",
      "test error rate: [0.36375    0.36375    0.36375    0.36375    0.36375    0.36375\n",
      " 0.36375    0.36375    0.29625    0.20583333 0.20666667 0.2075\n",
      " 0.22833333 0.28666667 0.37541667 0.39458333 0.39458333 0.39458333\n",
      " 0.39458333]\n"
     ]
    },
    {
     "data": {
      "image/png": "[encoded data removed]",
      "text/plain": [
       "<Figure size 576x396 with 1 Axes>"
      ]
     },
     "metadata": {},
     "output_type": "display_data"
    }
   ],
   "source": [
    "train_score_list=[]\n",
    "test_score_list=[]\n",
    "for C in C_grid:\n",
    "    svm_clf = SVC(C=C,random_state=666, kernel='poly')\n",
    "    cv_results = cross_validate(svm_clf, x, y_train_df, cv=5, return_train_score=True)\n",
    "    train_score_list.append(cv_results['train_score'].mean())\n",
    "    test_score_list.append(cv_results['test_score'].mean())  \n",
    "\n",
    "train_error_list = 1 - np.array(train_score_list)\n",
    "test_error_list = 1 - np.array(test_score_list)\n",
    "\n",
    "lg_C_grid = np.log10(C_grid)\n",
    "plt.plot(lg_C_grid, train_error_list, label='Training Set')\n",
    "plt.plot(lg_C_grid, test_error_list, label='Testing Set', color='red')\n",
    "plt.xlabel('lgC')\n",
    "plt.ylabel('error rate')\n",
    "plt.title('poly(degree=3) on different C value')\n",
    "plt.ylim((0,0.55))\n",
    "plt.legend()\n",
    "\n",
    "print(\"test score:\", test_score_list)\n",
    "print(\"test error rate:\", test_error_list)"
   ]
  },
  {
   "cell_type": "code",
   "execution_count": 89,
   "id": "c49a2961",
   "metadata": {},
   "outputs": [
    {
     "name": "stdout",
     "output_type": "stream",
     "text": [
      "test score: [0.8233333333333335, 0.8204166666666666, 0.7941666666666667, 0.76625, 0.7350000000000001, 0.7116666666666667, 0.6725000000000001, 0.6433333333333333, 0.6016666666666666]\n",
      "test error rate: [0.17666667 0.17958333 0.20583333 0.23375    0.265      0.28833333\n",
      " 0.3275     0.35666667 0.39833333]\n"
     ]
    },
    {
     "data": {
      "image/png": "[encoded data removed]",
      "text/plain": [
       "<Figure size 576x396 with 1 Axes>"
      ]
     },
     "metadata": {},
     "output_type": "display_data"
    }
   ],
   "source": [
    "train_score_list=[]\n",
    "test_score_list=[]\n",
    "degree_list = np.arange(1,10)\n",
    "for d in degree_list:\n",
    "    svm_clf = SVC(C=1,random_state=666, kernel='poly', degree=d)\n",
    "    cv_results = cross_validate(svm_clf, x, y_train_df, cv=5, return_train_score=True)\n",
    "    train_score_list.append(cv_results['train_score'].mean())\n",
    "    test_score_list.append(cv_results['test_score'].mean())  \n",
    "\n",
    "train_error_list = 1 - np.array(train_score_list)\n",
    "test_error_list = 1 - np.array(test_score_list)\n",
    "\n",
    "# lg_C_grid = np.log10(C_grid)\n",
    "plt.plot(degree_list, train_error_list, label='Training Set')\n",
    "plt.plot(degree_list, test_error_list, label='Testing Set', color='red')\n",
    "plt.xlabel('degree')\n",
    "plt.ylabel('error rate')\n",
    "plt.title('error rate on different degrees')\n",
    "plt.ylim((0,0.55))\n",
    "plt.legend()\n",
    "\n",
    "print(\"test score:\", test_score_list)\n",
    "print(\"test error rate:\", test_error_list)"
   ]
  },
  {
   "cell_type": "markdown",
   "id": "d2608069",
   "metadata": {},
   "source": [
    "### Hypothesis\n"
   ]
  },
  {
   "cell_type": "code",
   "execution_count": 91,
   "id": "8b814996",
   "metadata": {},
   "outputs": [],
   "source": [
    "from sklearn.linear_model import LogisticRegression\n",
    "from sklearn.model_selection import cross_validate\n",
    "\n",
    "import random\n",
    "random.seed(0)\n",
    "\n",
    "test_index = random.sample(range(2400),960)\n",
    "train_index = [i for i in list(range(2400)) if i not in test_index]\n",
    "\n",
    "x_train = x[train_index]\n",
    "x_test = x[test_index]\n",
    "y_train = y_train_df['is_positive_sentiment'][train_index]\n",
    "y_test = y_train_df['is_positive_sentiment'][test_index]"
   ]
  },
  {
   "cell_type": "code",
   "execution_count": 92,
   "id": "4abf3248",
   "metadata": {},
   "outputs": [],
   "source": [
    "df = pd.concat([x_train_df, y_train_df], axis=1)"
   ]
  },
  {
   "cell_type": "code",
   "execution_count": 94,
   "id": "cdd7fab0",
   "metadata": {},
   "outputs": [
    {
     "data": {
      "text/plain": [
       "0.828125"
      ]
     },
     "execution_count": 94,
     "metadata": {},
     "output_type": "execute_result"
    }
   ],
   "source": [
    "svm_clf = SVC(C=3.6,random_state=666, kernel='rbf').fit(x_train, y_train)\n",
    "y_pred = svm_clf.predict(x_test)\n",
    "svm_clf.score(x_test, y_test)"
   ]
  },
  {
   "cell_type": "code",
   "execution_count": 95,
   "id": "11c93ecf",
   "metadata": {},
   "outputs": [],
   "source": [
    "df_wrong = pd.DataFrame(y_pred != y_test)\n",
    "df_wrong[df_wrong['is_positive_sentiment']==True].index\n",
    "wrong_classify = df.iloc[df_wrong[df_wrong['is_positive_sentiment']==True].index]"
   ]
  },
  {
   "cell_type": "code",
   "execution_count": 96,
   "id": "9804f7dd",
   "metadata": {},
   "outputs": [
    {
     "data": {
      "text/plain": [
       "(165, 3)"
      ]
     },
     "execution_count": 96,
     "metadata": {},
     "output_type": "execute_result"
    }
   ],
   "source": [
    "wrong_classify.shape"
   ]
  },
  {
   "cell_type": "code",
   "execution_count": 107,
   "id": "83beb80f",
   "metadata": {},
   "outputs": [
    {
     "name": "stdout",
     "output_type": "stream",
     "text": [
      "    website_name                                                                                                                                                  text  is_positive_sentiment\n",
      "302       amazon                                                  i ordered this for sony ericsson w810i but i think it only worked once (thats when i first used it).                      0\n",
      "255       amazon                                      the sound quality for the device is unacceptable.unless you are in a really quiet area, you almost hear nothing.                      0\n",
      "753       amazon                                                            i usually don't like headbands but this one is very lightweight & doesn't mess up my hair.                      1\n",
      "367       amazon                                                                                                                same problem as others have mentioned.                      0\n",
      "533       amazon                                                i really like this product over the motorola because it is allot clearer on the ear piece and the mic.                      1\n",
      "509       amazon                                                                                                                                 better than expected.                      1\n",
      "507       amazon                                                                                                      t-mobile has the best customer service anywhere.                      1\n",
      "250       amazon  we received a white colored battery that goes dead after a couple hoursthe original used to last a week - but still lasts longer than thereplacement                      0\n",
      "161       amazon                                                  not a good item.. it worked for a while then started having problems in my auto reverse tape player.                      0\n",
      "237       amazon                                   you need at least 3 mins to get to your phone book from the time you first turn on the phone.battery life is short.                      0\n",
      "54        amazon                                                                                                                   excellent starter wireless headset.                      0\n",
      "0         amazon                                                                          oh and i forgot to also mention the weird color effect it has on your phone.                      0\n",
      "204       amazon                                                                                                     if you plan to use this in a car forget about it.                      0\n",
      "770       amazon                                                                                                                      protects the phone on all sides.                      1\n",
      "546       amazon                                                                                                    good protection and does not make phone too bulky.                      1\n",
      "168       amazon    the camera, although rated at an impressive 1.3 megapixels, renders images that fall well below expectations of such a relatively high resolution.                      0\n",
      "470       amazon                                                                                                         the cutouts and buttons are placed perfectly.                      1\n",
      "407       amazon                                              car charger as well as ac charger are included to make sure you never run out of juice.highy recommended                      1\n",
      "786       amazon                                                           they keep getting better and better (this is my third one and i've had numerous palms too).                      1\n",
      "525       amazon                                                                                                                          great...no problems at all!.                      1\n",
      "424       amazon                                                    it works great with a car charger, especially if you cannot plug in two adapters at the same time.                      1\n",
      "660       amazon                                                                                                               now i know that i made a wise decision.                      1\n",
      "72        amazon                                                   at first i thought i was grtting a good deal at $7.44, until i plugged it into my phone (v3c razr).                      0\n",
      "602       amazon                                                                                                              much better than the hard plastic cases.                      1\n",
      "593       amazon                                                                                                                  timely shipment and quality product.                      1\n",
      "536       amazon                                                                                                                                exactly what i wanted.                      1\n",
      "207       amazon                                                                                    the internet access was fine, it the rare instance that it worked.                      0\n",
      "123       amazon                                                                                                                               phone falls out easily.                      0\n",
      "691       amazon                                                                                                                                   just what i wanted.                      1\n",
      "232       amazon                                   it lasts less than 3o minutes, if i actually try to use the phone.my wife has the same phone with the same problem.                      0\n",
      "128       amazon                                                                   i have had this phone for over a year now, and i will tell you, its not that great.                      0\n",
      "61        amazon                                         i've had this bluetoooth headset for some time now and still not comfortable with the way it fits on the ear.                      0\n",
      "364       amazon                                                                                             save your money.... i've had this item for 11 months now.                      0\n",
      "293       amazon                                                                                                                        the battery runs down quickly.                      0\n",
      "476       amazon                                                                                                                             better than you'd expect.                      1\n",
      "230       amazon                                                     verizon's bills, however, are difficult to understand even though their pricing plans are simple.                      0\n",
      "266       amazon                                                                                                      it is unusable in a moving car at freeway speed.                      0\n",
      "320       amazon                                                                                                                       i was not happy with this item.                      0\n",
      "771       amazon                                                                                                                                  very wind-resistant.                      1\n",
      "42        amazon          unfortunately the ability to actually know you are receiving a call is a rather important feature and this phone is pitiful in that respect.                      0\n",
      "17        amazon                                                                                                                   i advise everyone do not be fooled!                      0\n",
      "315       amazon                                                                                                                        not good enough for the price.                      0\n",
      "357       amazon                                                                                                                                          really ugly.                      0\n",
      "242       amazon                                                                                                   the text messaging feature is really tricky to use.                      0\n",
      "598       amazon                                                                                 my sanyo has survived dozens of drops on blacktop without ill effect.                      1\n",
      "614       amazon                  this phone is very fast with sending any kind of messages and web browsing is significantly faster than previous phones i have used.                      1\n",
      "464       amazon                                                                                                                        it has all the features i want                      1\n"
     ]
    }
   ],
   "source": [
    "wrong_classify[wrong_classify['website_name'] == 'amazon'].shape\n",
    "print(wrong_classify[wrong_classify['website_name'] == 'amazon'].to_string())"
   ]
  },
  {
   "cell_type": "code",
   "execution_count": 108,
   "id": "1ff60088",
   "metadata": {},
   "outputs": [
    {
     "name": "stdout",
     "output_type": "stream",
     "text": [
      "     website_name                                                                                                                                                                                                                                                   text  is_positive_sentiment\n",
      "1060         imdb                                                                                                                                                                                                                         lots of holes in the script.                        0\n",
      "1242         imdb                                                                                                                                                          however paul schrader has indeed made a film \"about\" mishima that is both superb & complex.                        1\n",
      "1295         imdb                                                                                                                                                                                                                         you won't forget this movie!                        1\n",
      "1066         imdb                                                                                                                                                                                                                              why was this film made?                        0\n",
      "1234         imdb                                                                     the result is a powerhouse achievement, made more timely now perhaps because of our culture's disturbing fascination with celebrity, and it's distorted interpretations of fame.                        1\n",
      "1362         imdb                                                                                                                                                                                               but this understated film leaves a lasting impression.                        1\n",
      "991          imdb                                                                                                                                                                                                 the only place good for this film is in the garbage.                        0\n",
      "1065         imdb                                                                                                                                                                       the guy who said he's had better dialogue with his potted plants has it right.                        0\n",
      "881          imdb                                                                                                                                                                                         it's so bad it's actually worth seeing just for that reason.                        0\n",
      "1373         imdb                                                                                                                                                                                                                but i thought his acting was skilled.                        1\n",
      "1233         imdb                                                                                                                                                                                                                    predictable, but not a bad watch.                        1\n",
      "1434         imdb                                                                                                                                                                                                                    the aerial scenes were well-done.                        1\n",
      "1462         imdb                                                                                                                                                         the two main characters may be two of the most believable children i ever saw put on screen.                        1\n",
      "1150         imdb                                                                                                                                                                                             whatever the producer was going for, he missed entirely.                        0\n",
      "1502         imdb                                                                                                                                                                     after watching this film, i wanted to learn more about the works of this artist.                        1\n",
      "1504         imdb                                                                                                                                                                                          if you have not seen this movie, i definitely recommend it!                        1\n",
      "1478         imdb                                                                                                                                        this review is long overdue, since i consider a tale of two sisters to be the single greatest film ever made.                        1\n",
      "1236         imdb                                                                                                                                                                                                     i struggle to find anything bad to say about it.                        1\n",
      "815          imdb                                                                                                                                                                                       when i saw it in the theater i thought i was going to be sick.                        0\n",
      "1119         imdb                                                                                                                                              it was a very superficial movie and it gave me the feeling that i was watching play rather than a film.                        0\n",
      "1445         imdb                                                                                                                                                                                                                meredith m was better than all right.                        1\n",
      "1529         imdb                                                                                                                                                           the characters were all funny and had the peculiarity of not having a true lead character.                        1\n",
      "1075         imdb                                                                                                              the movie is littered with overt racial slurs towards the black cast members and in return the whites are depicted as morons and boobs.                        0\n",
      "1175         imdb                                                                                                                                                                      characters are one-dimensional, even the good guys and especially the bad guys.                        0\n",
      "1552         imdb                                                                                                                                                                                                                 fans of the genre will be in heaven.                        1\n",
      "1229         imdb                                                                                                                                                                                                   this is the kind of money that is wasted properly.                        1\n",
      "1096         imdb                                                                                                                                                                                                        it was forced, like everything in this movie.                        0\n",
      "1244         imdb                                                                                                                                                                                                                 but it is entertaining, nonetheless.                        1\n",
      "1517         imdb                                                                                                                                                                                                         all things considered, a job very well done.                        1\n",
      "1493         imdb                                                                                                                                                                                              some applause should be given to the \"prelude\" however.                        1\n",
      "954          imdb                                                                                                                                                                                                               you can find better movies at youtube.                        0\n",
      "1124         imdb                                                                                                                                                    this is a chilly, unremarkable movie about an author living/working in a chilly abstruse culture.                        0\n",
      "1397         imdb                                                                                                                                                                                         the characters are interesting and you really care for them.                        1\n",
      "1461         imdb                                                                                                                                                                                            the acting, as you'd expect from this cast, is top notch.                        1\n",
      "1527         imdb                                                                                               i don't know exactly what it is about this movie, but we latched on to this endearing movie and it has become a special part of our family's memories.                        1\n",
      "802          imdb                                                             the only real effects work is the presence of all the animals, and the integration of those into the scenes is some of the worst and most obvious blue/green-screen work i've ever seen.                        0\n",
      "1284         imdb                                                                                                                 stanwyck and morgan are perfectly cast in what is, in many ways, a modern equivalent of dickens' christmas carol in its sensibility.                        1\n",
      "1596         imdb                                                                                                                                                                                         i would have casted her in that role after ready the script.                        1\n",
      "1072         imdb                                                                                                                                                                                       which has more depth and character than the man underneath it.                        0\n",
      "864          imdb                                                                                                                                                                                         utterly without merit on any level, this is akin to torture.                        0\n",
      "1584         imdb                                                                                                                                                                                                                         a film not easily forgotten.                        1\n",
      "854          imdb                                                                                                                                                                                                                     delete this film from your mind!                        0\n",
      "969          imdb                                                                                                                                             one character is totally annoying with a voice that gives me the feeling of fingernails on a chalkboard.                        0\n",
      "806          imdb                                                                                                                                                                                                                                         again, lame.                        0\n",
      "1438         imdb                                                                                                                                     lifetime does not air it enough, so if anyone knows what store sells it let me know because this is a must-have.                        1\n",
      "1210         imdb                                                                                  the film's sole bright spot was jonah hill (who will look almost unrecognizable to fans of the recent superbad due to the amount of weight he lost in the interim).                        1\n",
      "1304         imdb  the film deserves strong kudos for taking this stand, for having exceptional acting from its mostly lesser-known cast and for the super-intelligent script that doesn't insult the audience or take the easy way out when it comes to white racism.                        1\n",
      "1247         imdb                                                                                                                                                                     how can anyone in their right mind ask for anything more from a movie than this?                        1\n",
      "1113         imdb                                                                                                                                              if you do go see this movie, bring a pillow or a girlfriend/boyfriend to keep you occupied through out.                        0\n",
      "849          imdb                                                                                                                 the movie lacks visual interest, drama, expression of feeling, and celebration of the very patriotism that underlines the narrative.                        0\n",
      "1163         imdb                                                                                                                                                                               very disappointed and wondered how it could be in the oscar shortlist.                        0\n",
      "821          imdb                                                                                                                                                          my only problem is i thought the actor playing the villain was a low rent michael ironside.                        0\n",
      "1583         imdb                                                                                                                                                                                                     not too screamy not to masculine but just right.                        1\n",
      "891          imdb                                                                                                                                                                                                      the stories were as unbelievable as the actors.                        0\n",
      "1073         imdb                                                                                                                                                                                                i really don't see how anyone could enjoy this movie.                        0\n"
     ]
    }
   ],
   "source": [
    "wrong_classify[wrong_classify['website_name'] == 'imdb'].shape\n",
    "print(wrong_classify[wrong_classify['website_name'] == 'imdb'].to_string())"
   ]
  },
  {
   "cell_type": "code",
   "execution_count": 111,
   "id": "09cbf39b",
   "metadata": {},
   "outputs": [
    {
     "name": "stdout",
     "output_type": "stream",
     "text": [
      "     website_name                                                                                                                                            text  is_positive_sentiment\n",
      "1990         yelp                                                                                                                and the drinks are weak, people!                      0\n",
      "2263         yelp                             some may say this buffet is pricey but i think you get what you pay for and this place you are getting quite a lot!                      1\n",
      "2135         yelp                                                                                                      never had anything to complain about here.                      1\n",
      "2324         yelp                                                                                                      all in all, i can assure you i'll be back.                      1\n",
      "1786         yelp                                                                                               pricing is a bit of a concern at mellow mushroom.                      0\n",
      "1931         yelp                                     although i very much liked the look and sound of this place, the actual experience was a bit disappointing.                      0\n",
      "1678         yelp                                                                                                            as for the \"mains,\" also uninspired.                      0\n",
      "1700         yelp                                                                                                            very tough and very short on flavor!                      0\n",
      "1783         yelp                                                                              also, the fries are without a doubt the worst fries i've ever had.                      0\n",
      "1651         yelp  the descriptions said \"yum yum sauce\" and another said \"eel sauce\", yet another said \"spicy mayo\"...well none of the rolls had sauces on them.                      0\n",
      "1698         yelp                                                                                                      - they never brought a salad we asked for.                      0\n",
      "2264         yelp                                                                                             on the up side, their cafe serves really good food.                      1\n",
      "2126         yelp                                                                                                            i did not expect this to be so good!                      1\n",
      "2249         yelp                                                                                    omg i felt like i had never eaten thai food until this dish.                      1\n",
      "1613         yelp                                                                                                    crostini that came with the salad was stale.                      0\n",
      "2001         yelp                                                                                            if you want a sandwich just go to any firehouse!!!!!                      1\n",
      "1732         yelp                                 the potatoes were like rubber and you could tell they had been made up ahead of time being kept under a warmer.                      0\n",
      "1766         yelp                                                                     a lady at the table next to us found a live green caterpillar in her salad.                      0\n",
      "2331         yelp                                            and considering the two of us left there very full and happy for about $20, you just can't go wrong.                      1\n",
      "2024         yelp                                                                                                                              this place has it!                      1\n",
      "2121         yelp                                                     the deal included 5 tastings and 2 drinks, and jeff went above and beyond what we expected.                      1\n",
      "2022         yelp                                                                                                for sushi on the strip, this is the place to go.                      1\n",
      "2139         yelp                                                                                                          this place is two thumbs up....way up.                      1\n",
      "2344         yelp                                             love this place, hits the spot when i want something healthy but not lacking in quantity or flavor.                      1\n",
      "1639         yelp                                                                                 it was a pale color instead of nice and char and has no flavor.                      0\n",
      "2396         yelp                                                                                              i could eat their bruschetta all day it is devine.                      1\n",
      "2095         yelp                                                                                                i can assure you that you won't be disappointed.                      1\n",
      "2381         yelp                  i will continue to come here on ladies night andddd date night ... highly recommend this place to anyone who is in the area (;                      1\n",
      "2051         yelp                                                                     one of the few places in phoenix that i would definately go back to again .                      1\n",
      "1768         yelp                                                                               it was attached to a gas station, and that is rarely a good sign.                      0\n",
      "2054         yelp                                                                                                               def coming back to bowl next time                      1\n",
      "1989         yelp                                                                                                                                i'm super pissd.                      0\n",
      "2374         yelp                                                                                     the goat taco didn't skimp on the meat and wow what flavor!                      1\n",
      "2354         yelp                                                              point your finger at any item on the menu, order it and you won't be disappointed.                      1\n",
      "2380         yelp                                                                                                                       i was seated immediately.                      1\n",
      "2108         yelp                                                                                                    you cant go wrong with any of the food here.                      1\n",
      "2120         yelp                                                                                                           if you're not familiar, check it out.                      1\n",
      "2084         yelp                                                               not a weekly haunt, but definitely a place to come back to every once in a while.                      1\n",
      "2105         yelp                                                                                                                             eclectic selection.                      1\n",
      "2202         yelp                                                                                               this place receives stars for their appetizers!!!                      1\n",
      "2282         yelp                                                                                                                they know how to make them here.                      1\n",
      "2218         yelp                                                                                                   cant say enough good things about this place.                      1\n",
      "2180         yelp                                                                                    if you want healthy authentic or ethic food, try this place.                      1\n",
      "2289         yelp                                                                                                     the burger is good beef, cooked just right.                      1\n",
      "1857         yelp                                                                  she was quite disappointed although some blame needs to be placed at her door.                      0\n",
      "1666         yelp                                                                                                                         i give it 2 thumbs down                      0\n",
      "1817         yelp                                                                                                      must have been an off night at this place.                      0\n",
      "2077         yelp                                                                                                                   after one bite, i was hooked.                      1\n",
      "1796         yelp                                                                                                               the service here is fair at best.                      0\n",
      "2073         yelp                                         the salad had just the right amount of sauce to not over power the scallop, which was perfectly cooked.                      1\n",
      "1748         yelp                                                                                                                    the kids play area is nasty!                      0\n",
      "1923         yelp                                                  shrimp- when i unwrapped it (i live only 1/2 a mile from brushfire) it was literally ice cold.                      0\n",
      "1612         yelp                                                                                            please stay away from the shrimp stir fried noodles.                      0\n",
      "2317         yelp                                                                                                              great place fo take out or eat in.                      1\n",
      "1657         yelp                                                                                   she ordered a toasted english muffin that came out untoasted.                      0\n",
      "2157         yelp                  i ordered the voodoo pasta and it was the first time i'd had really excellent pasta since going gluten free several years ago.                      1\n",
      "1809         yelp                    we ordered some old classics and some new dishes after going there a few times and were sorely disappointed with everything.                      0\n",
      "2340         yelp                                                                                                                      you won't be disappointed.                      1\n",
      "2233         yelp                                                                                  would come back again if i had a sushi craving while in vegas.                      1\n",
      "2346         yelp                                                        i don't each much pasta, but i love the homemade /hand made pastas and thin pizzas here.                      1\n",
      "1737         yelp                                  the pan cakes everyone are raving about taste like a sugary disaster tailored to the palate of a six year old.                      0\n",
      "1618         yelp                                                                                                                    it was a drive to get there.                      0\n",
      "2377         yelp                                                                                                                            he deserves 5 stars.                      1\n"
     ]
    }
   ],
   "source": [
    "yelp_wrong = wrong_classify[wrong_classify['website_name'] == 'yelp']\n",
    "yelp_wrong.shape\n",
    "print(yelp_wrong.to_string())"
   ]
  },
  {
   "cell_type": "markdown",
   "id": "277a6cd7",
   "metadata": {},
   "source": [
    "### Leaderboard"
   ]
  },
  {
   "cell_type": "code",
   "execution_count": 113,
   "id": "2784953f",
   "metadata": {},
   "outputs": [],
   "source": [
    "svm_clf = SVC(C=3.6,random_state=666, kernel='rbf', probability=True).fit(x, y_train_df)\n",
    "y_sub = svm_clf.predict_proba(X[-600:,:])"
   ]
  },
  {
   "cell_type": "code",
   "execution_count": 114,
   "id": "8dab488c",
   "metadata": {},
   "outputs": [],
   "source": [
    "np.savetxt('yproba1_test.txt', y_sub[:,1])"
   ]
  },
  {
   "cell_type": "code",
   "execution_count": null,
   "id": "4b1305bd",
   "metadata": {},
   "outputs": [],
   "source": []
  }
 ],
 "metadata": {
  "kernelspec": {
   "display_name": "Python 3 (ipykernel)",
   "language": "python",
   "name": "python3"
  },
  "language_info": {
   "codemirror_mode": {
    "name": "ipython",
    "version": 3
   },
   "file_extension": ".py",
   "mimetype": "text/x-python",
   "name": "python",
   "nbconvert_exporter": "python",
   "pygments_lexer": "ipython3",
   "version": "3.8.3"
  },
  "varInspector": {
   "cols": {
    "lenName": 16,
    "lenType": 16,
    "lenVar": 40
   },
   "kernels_config": {
    "python": {
     "delete_cmd_postfix": "",
     "delete_cmd_prefix": "del ",
     "library": "var_list.py",
     "varRefreshCmd": "print(var_dic_list())"
    },
    "r": {
     "delete_cmd_postfix": ") ",
     "delete_cmd_prefix": "rm(",
     "library": "var_list.r",
     "varRefreshCmd": "cat(var_dic_list()) "
    }
   },
   "types_to_exclude": [
    "module",
    "function",
    "builtin_function_or_method",
    "instance",
    "_Feature"
   ],
   "window_display": false
  }
 },
 "nbformat": 4,
 "nbformat_minor": 5
}
