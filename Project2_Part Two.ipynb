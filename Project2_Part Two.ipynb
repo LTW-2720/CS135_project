{
 "cells": [
  {
   "cell_type": "code",
   "execution_count": 1,
   "id": "4b1eabff",
   "metadata": {},
   "outputs": [],
   "source": [
    "import numpy as np\n",
    "import pandas as pd\n",
    "from sklearn.metrics import log_loss\n",
    "from sklearn.linear_model import LogisticRegression\n",
    "from matplotlib import pyplot as plt \n",
    "from sklearn.metrics import confusion_matrix\n",
    "from matplotlib import cm\n",
    "from sklearn.model_selection import train_test_split\n",
    "\n",
    "%matplotlib inline\n",
    "plt.style.use('seaborn')"
   ]
  },
  {
   "cell_type": "code",
   "execution_count": 2,
   "id": "e0cd02a1",
   "metadata": {},
   "outputs": [],
   "source": [
    "train_shirt_x = pd.read_csv('troudress_train_x.csv')\n",
    "test_shirt_x = pd.read_csv('troudress_test_x.csv')\n",
    "train_shirt_y = pd.read_csv('troudress_train_y.csv')"
   ]
  },
  {
   "cell_type": "code",
   "execution_count": 3,
   "id": "e4e6d2de",
   "metadata": {},
   "outputs": [
    {
     "name": "stdout",
     "output_type": "stream",
     "text": [
      "(8400, 784)\n",
      "(3600, 784)\n",
      "(8400, 1)\n",
      "(3600, 1)\n"
     ]
    }
   ],
   "source": [
    "X_train, X_test, y_train, y_test = train_test_split(train_shirt_x, train_shirt_y, test_size=0.3, random_state=8)\n",
    "for data in [X_train, X_test, y_train, y_test]:\n",
    "    print(data.shape)"
   ]
  },
  {
   "cell_type": "markdown",
   "id": "6020373e",
   "metadata": {},
   "source": [
    "### Without Features Transformation & without penalty"
   ]
  },
  {
   "cell_type": "code",
   "execution_count": 11,
   "id": "bd726e29",
   "metadata": {},
   "outputs": [
    {
     "name": "stderr",
     "output_type": "stream",
     "text": [
      "D:\\conda\\lib\\site-packages\\sklearn\\utils\\validation.py:985: DataConversionWarning: A column-vector y was passed when a 1d array was expected. Please change the shape of y to (n_samples, ), for example using ravel().\n",
      "  y = column_or_1d(y, warn=True)\n"
     ]
    },
    {
     "name": "stdout",
     "output_type": "stream",
     "text": [
      "The accuracy for the basic model on test set is: 1.000\n",
      "The accuracy for the basic model on train set is: 0.974\n",
      "The log loss for the basic model is: 2.197\n"
     ]
    }
   ],
   "source": [
    "lr_clf1 = LogisticRegression(solver='liblinear')\n",
    "lr_clf1.fit(X_train, y_train)\n",
    "y_predict = lr_clf1.predict(X_test)\n",
    "proba = lr_clf1.predict_proba(X_test)\n",
    "# y_predict.shape\n",
    "\n",
    "acc1 = lr_clf1.score(X_test,y_predict)\n",
    "print(\"The accuracy for the basic model on test set is: %.3f\" % acc1)\n",
    "acc2 = lr_clf1.score(X_train,y_train)\n",
    "print(\"The accuracy for the basic model on train set is: %.3f\" % acc2)\n",
    "log_loss1 = log_loss(y_test, y_predict)\n",
    "print(\"The log loss for the basic model is: %.3f\" % log_loss1)"
   ]
  },
  {
   "cell_type": "code",
   "execution_count": 12,
   "id": "714765d8",
   "metadata": {},
   "outputs": [
    {
     "data": {
      "text/plain": [
       "(1712, 119, 110, 1659)"
      ]
     },
     "execution_count": 12,
     "metadata": {},
     "output_type": "execute_result"
    }
   ],
   "source": [
    "tn, fp, fn, tp = confusion_matrix(y_test,y_predict).ravel()\n",
    "(tn, fp, fn, tp)"
   ]
  },
  {
   "cell_type": "code",
   "execution_count": 13,
   "id": "ebfdf4e8",
   "metadata": {},
   "outputs": [
    {
     "data": {
      "text/plain": [
       "<sklearn.metrics._plot.confusion_matrix.ConfusionMatrixDisplay at 0x19157c8ae20>"
      ]
     },
     "execution_count": 13,
     "metadata": {},
     "output_type": "execute_result"
    },
    {
     "data": {
      "image/png": "[encoded data removed]",
      "text/plain": [
       "<Figure size 576x396 with 2 Axes>"
      ]
     },
     "metadata": {},
     "output_type": "display_data"
    }
   ],
   "source": [
    "from sklearn.metrics import confusion_matrix, ConfusionMatrixDisplay\n",
    "cm = confusion_matrix(y_test,y_predict)\n",
    "disp = ConfusionMatrixDisplay(confusion_matrix=cm)\n",
    "disp.plot()"
   ]
  },
  {
   "cell_type": "code",
   "execution_count": 14,
   "id": "e4e05340",
   "metadata": {},
   "outputs": [
    {
     "data": {
      "text/plain": [
       "<matplotlib.legend.Legend at 0x19157a739a0>"
      ]
     },
     "execution_count": 14,
     "metadata": {},
     "output_type": "execute_result"
    },
    {
     "data": {
      "image/png": "[encoded data removed]",
      "text/plain": [
       "<Figure size 576x396 with 1 Axes>"
      ]
     },
     "metadata": {},
     "output_type": "display_data"
    }
   ],
   "source": [
    "from sklearn import metrics\n",
    "fpr, tpr, thresholds = metrics.roc_curve(y_test, proba[:,1])\n",
    "# fpr2, tpr2, thresholds2 = metrics.roc_curve(y_test, proba)\n",
    "\n",
    "plt.plot(fpr, tpr,color='blue', label='lr_basic')\n",
    "# plt.plot(fpr2, tpr2,color='red', label='CCCV')\n",
    "\n",
    "plt.ylim([0, 1]);\n",
    "plt.xlabel(\"False Postive rate (FPR)\")\n",
    "plt.ylabel(\"True Postive rate (TPR)\")\n",
    "plt.legend()"
   ]
  },
  {
   "cell_type": "code",
   "execution_count": 15,
   "id": "c5c420bf",
   "metadata": {},
   "outputs": [
    {
     "data": {
      "text/plain": [
       "0.9782228617809171"
      ]
     },
     "execution_count": 15,
     "metadata": {},
     "output_type": "execute_result"
    }
   ],
   "source": [
    "from sklearn.metrics import roc_auc_score\n",
    "roc_auc_score(y_test, proba[:,1])"
   ]
  },
  {
   "cell_type": "markdown",
   "id": "8b563430",
   "metadata": {},
   "source": [
    "### Without Features Transformation & use L1 penalty"
   ]
  },
  {
   "cell_type": "code",
   "execution_count": 10,
   "id": "9c46850e",
   "metadata": {},
   "outputs": [
    {
     "name": "stderr",
     "output_type": "stream",
     "text": [
      "D:\\conda\\lib\\site-packages\\sklearn\\utils\\validation.py:985: DataConversionWarning: A column-vector y was passed when a 1d array was expected. Please change the shape of y to (n_samples, ), for example using ravel().\n",
      "  y = column_or_1d(y, warn=True)\n",
      "D:\\conda\\lib\\site-packages\\sklearn\\utils\\validation.py:985: DataConversionWarning: A column-vector y was passed when a 1d array was expected. Please change the shape of y to (n_samples, ), for example using ravel().\n",
      "  y = column_or_1d(y, warn=True)\n",
      "D:\\conda\\lib\\site-packages\\sklearn\\utils\\validation.py:985: DataConversionWarning: A column-vector y was passed when a 1d array was expected. Please change the shape of y to (n_samples, ), for example using ravel().\n",
      "  y = column_or_1d(y, warn=True)\n",
      "D:\\conda\\lib\\site-packages\\sklearn\\utils\\validation.py:985: DataConversionWarning: A column-vector y was passed when a 1d array was expected. Please change the shape of y to (n_samples, ), for example using ravel().\n",
      "  y = column_or_1d(y, warn=True)\n",
      "D:\\conda\\lib\\site-packages\\sklearn\\utils\\validation.py:985: DataConversionWarning: A column-vector y was passed when a 1d array was expected. Please change the shape of y to (n_samples, ), for example using ravel().\n",
      "  y = column_or_1d(y, warn=True)\n",
      "D:\\conda\\lib\\site-packages\\sklearn\\utils\\validation.py:985: DataConversionWarning: A column-vector y was passed when a 1d array was expected. Please change the shape of y to (n_samples, ), for example using ravel().\n",
      "  y = column_or_1d(y, warn=True)\n",
      "D:\\conda\\lib\\site-packages\\sklearn\\utils\\validation.py:985: DataConversionWarning: A column-vector y was passed when a 1d array was expected. Please change the shape of y to (n_samples, ), for example using ravel().\n",
      "  y = column_or_1d(y, warn=True)\n",
      "D:\\conda\\lib\\site-packages\\sklearn\\utils\\validation.py:985: DataConversionWarning: A column-vector y was passed when a 1d array was expected. Please change the shape of y to (n_samples, ), for example using ravel().\n",
      "  y = column_or_1d(y, warn=True)\n",
      "D:\\conda\\lib\\site-packages\\sklearn\\utils\\validation.py:985: DataConversionWarning: A column-vector y was passed when a 1d array was expected. Please change the shape of y to (n_samples, ), for example using ravel().\n",
      "  y = column_or_1d(y, warn=True)\n",
      "D:\\conda\\lib\\site-packages\\sklearn\\utils\\validation.py:985: DataConversionWarning: A column-vector y was passed when a 1d array was expected. Please change the shape of y to (n_samples, ), for example using ravel().\n",
      "  y = column_or_1d(y, warn=True)\n",
      "D:\\conda\\lib\\site-packages\\sklearn\\utils\\validation.py:985: DataConversionWarning: A column-vector y was passed when a 1d array was expected. Please change the shape of y to (n_samples, ), for example using ravel().\n",
      "  y = column_or_1d(y, warn=True)\n",
      "D:\\conda\\lib\\site-packages\\sklearn\\utils\\validation.py:985: DataConversionWarning: A column-vector y was passed when a 1d array was expected. Please change the shape of y to (n_samples, ), for example using ravel().\n",
      "  y = column_or_1d(y, warn=True)\n",
      "D:\\conda\\lib\\site-packages\\sklearn\\utils\\validation.py:985: DataConversionWarning: A column-vector y was passed when a 1d array was expected. Please change the shape of y to (n_samples, ), for example using ravel().\n",
      "  y = column_or_1d(y, warn=True)\n",
      "D:\\conda\\lib\\site-packages\\sklearn\\utils\\validation.py:985: DataConversionWarning: A column-vector y was passed when a 1d array was expected. Please change the shape of y to (n_samples, ), for example using ravel().\n",
      "  y = column_or_1d(y, warn=True)\n",
      "D:\\conda\\lib\\site-packages\\sklearn\\utils\\validation.py:985: DataConversionWarning: A column-vector y was passed when a 1d array was expected. Please change the shape of y to (n_samples, ), for example using ravel().\n",
      "  y = column_or_1d(y, warn=True)\n",
      "D:\\conda\\lib\\site-packages\\sklearn\\utils\\validation.py:985: DataConversionWarning: A column-vector y was passed when a 1d array was expected. Please change the shape of y to (n_samples, ), for example using ravel().\n",
      "  y = column_or_1d(y, warn=True)\n",
      "D:\\conda\\lib\\site-packages\\sklearn\\utils\\validation.py:985: DataConversionWarning: A column-vector y was passed when a 1d array was expected. Please change the shape of y to (n_samples, ), for example using ravel().\n",
      "  y = column_or_1d(y, warn=True)\n",
      "D:\\conda\\lib\\site-packages\\sklearn\\utils\\validation.py:985: DataConversionWarning: A column-vector y was passed when a 1d array was expected. Please change the shape of y to (n_samples, ), for example using ravel().\n",
      "  y = column_or_1d(y, warn=True)\n",
      "D:\\conda\\lib\\site-packages\\sklearn\\utils\\validation.py:985: DataConversionWarning: A column-vector y was passed when a 1d array was expected. Please change the shape of y to (n_samples, ), for example using ravel().\n",
      "  y = column_or_1d(y, warn=True)\n",
      "D:\\conda\\lib\\site-packages\\sklearn\\utils\\validation.py:985: DataConversionWarning: A column-vector y was passed when a 1d array was expected. Please change the shape of y to (n_samples, ), for example using ravel().\n",
      "  y = column_or_1d(y, warn=True)\n",
      "D:\\conda\\lib\\site-packages\\sklearn\\utils\\validation.py:985: DataConversionWarning: A column-vector y was passed when a 1d array was expected. Please change the shape of y to (n_samples, ), for example using ravel().\n",
      "  y = column_or_1d(y, warn=True)\n",
      "D:\\conda\\lib\\site-packages\\sklearn\\utils\\validation.py:985: DataConversionWarning: A column-vector y was passed when a 1d array was expected. Please change the shape of y to (n_samples, ), for example using ravel().\n",
      "  y = column_or_1d(y, warn=True)\n",
      "D:\\conda\\lib\\site-packages\\sklearn\\utils\\validation.py:985: DataConversionWarning: A column-vector y was passed when a 1d array was expected. Please change the shape of y to (n_samples, ), for example using ravel().\n",
      "  y = column_or_1d(y, warn=True)\n",
      "D:\\conda\\lib\\site-packages\\sklearn\\utils\\validation.py:985: DataConversionWarning: A column-vector y was passed when a 1d array was expected. Please change the shape of y to (n_samples, ), for example using ravel().\n",
      "  y = column_or_1d(y, warn=True)\n",
      "D:\\conda\\lib\\site-packages\\sklearn\\utils\\validation.py:985: DataConversionWarning: A column-vector y was passed when a 1d array was expected. Please change the shape of y to (n_samples, ), for example using ravel().\n",
      "  y = column_or_1d(y, warn=True)\n",
      "D:\\conda\\lib\\site-packages\\sklearn\\utils\\validation.py:985: DataConversionWarning: A column-vector y was passed when a 1d array was expected. Please change the shape of y to (n_samples, ), for example using ravel().\n",
      "  y = column_or_1d(y, warn=True)\n",
      "D:\\conda\\lib\\site-packages\\sklearn\\utils\\validation.py:985: DataConversionWarning: A column-vector y was passed when a 1d array was expected. Please change the shape of y to (n_samples, ), for example using ravel().\n",
      "  y = column_or_1d(y, warn=True)\n",
      "D:\\conda\\lib\\site-packages\\sklearn\\utils\\validation.py:985: DataConversionWarning: A column-vector y was passed when a 1d array was expected. Please change the shape of y to (n_samples, ), for example using ravel().\n",
      "  y = column_or_1d(y, warn=True)\n",
      "D:\\conda\\lib\\site-packages\\sklearn\\utils\\validation.py:985: DataConversionWarning: A column-vector y was passed when a 1d array was expected. Please change the shape of y to (n_samples, ), for example using ravel().\n",
      "  y = column_or_1d(y, warn=True)\n",
      "D:\\conda\\lib\\site-packages\\sklearn\\utils\\validation.py:985: DataConversionWarning: A column-vector y was passed when a 1d array was expected. Please change the shape of y to (n_samples, ), for example using ravel().\n",
      "  y = column_or_1d(y, warn=True)\n",
      "D:\\conda\\lib\\site-packages\\sklearn\\utils\\validation.py:985: DataConversionWarning: A column-vector y was passed when a 1d array was expected. Please change the shape of y to (n_samples, ), for example using ravel().\n",
      "  y = column_or_1d(y, warn=True)\n"
     ]
    }
   ],
   "source": [
    "C_grid = np.logspace(-9, 6, 31)\n",
    "acc_list = []\n",
    "loss_list = []\n",
    "for c in C_grid:\n",
    "    lr_clf_c = LogisticRegression(penalty='l1',C=c, random_state=8, solver='liblinear')\n",
    "    lr_clf_c.fit(X_train, y_train)\n",
    "    y_predict_c = lr_clf_c.predict(X_test)\n",
    "    proba_c = lr_clf_c.predict_proba(X_test)\n",
    "    acc = lr_clf_c.score(X_train, y_train)\n",
    "    acc_list.append(acc)\n",
    "    log_loss_c = log_loss(y_test, y_predict_c)\n",
    "    loss_list.append(log_loss_c)"
   ]
  },
  {
   "cell_type": "code",
   "execution_count": 11,
   "id": "ca62e247",
   "metadata": {},
   "outputs": [
    {
     "data": {
      "text/plain": [
       "Text(0, 0.5, 'Accuracy')"
      ]
     },
     "execution_count": 11,
     "metadata": {},
     "output_type": "execute_result"
    },
    {
     "data": {
      "image/png": "[encoded data removed]",
      "text/plain": [
       "<Figure size 576x396 with 1 Axes>"
      ]
     },
     "metadata": {},
     "output_type": "display_data"
    }
   ],
   "source": [
    "plt.xscale('log')\n",
    "plt.plot(C_grid, acc_list, label='accuracy')\n",
    "plt.legend()\n",
    "plt.title(\"Accuracy of LR Model \")\n",
    "plt.xlabel(\"C\")\n",
    "plt.ylabel(\"Accuracy\")"
   ]
  },
  {
   "cell_type": "code",
   "execution_count": 12,
   "id": "9be07506",
   "metadata": {},
   "outputs": [
    {
     "data": {
      "text/plain": [
       "[0.4963095238095238,\n",
       " 0.4963095238095238,\n",
       " 0.4963095238095238,\n",
       " 0.4963095238095238,\n",
       " 0.4963095238095238,\n",
       " 0.4963095238095238,\n",
       " 0.4963095238095238,\n",
       " 0.4963095238095238,\n",
       " 0.4963095238095238,\n",
       " 0.4963095238095238,\n",
       " 0.4963095238095238,\n",
       " 0.4963095238095238,\n",
       " 0.4963095238095238,\n",
       " 0.9092857142857143,\n",
       " 0.9435714285714286,\n",
       " 0.9544047619047619,\n",
       " 0.9617857142857142,\n",
       " 0.968452380952381,\n",
       " 0.9738095238095238,\n",
       " 0.9744047619047619,\n",
       " 0.9741666666666666,\n",
       " 0.9741666666666666,\n",
       " 0.9741666666666666,\n",
       " 0.9742857142857143,\n",
       " 0.9741666666666666,\n",
       " 0.9741666666666666,\n",
       " 0.9741666666666666,\n",
       " 0.9741666666666666,\n",
       " 0.9741666666666666,\n",
       " 0.9741666666666666,\n",
       " 0.9741666666666666]"
      ]
     },
     "execution_count": 12,
     "metadata": {},
     "output_type": "execute_result"
    }
   ],
   "source": [
    "acc_list"
   ]
  },
  {
   "cell_type": "code",
   "execution_count": 13,
   "id": "0c9c26d5",
   "metadata": {},
   "outputs": [
    {
     "data": {
      "text/plain": [
       "0.9744047619047619"
      ]
     },
     "execution_count": 13,
     "metadata": {},
     "output_type": "execute_result"
    }
   ],
   "source": [
    "max(acc_list)"
   ]
  },
  {
   "cell_type": "code",
   "execution_count": 15,
   "id": "bafc3744",
   "metadata": {},
   "outputs": [
    {
     "data": {
      "text/plain": [
       "Text(0, 0.5, 'Log_Loss')"
      ]
     },
     "execution_count": 15,
     "metadata": {},
     "output_type": "execute_result"
    },
    {
     "data": {
      "image/png": "[encoded data removed]",
      "text/plain": [
       "<Figure size 576x396 with 1 Axes>"
      ]
     },
     "metadata": {},
     "output_type": "display_data"
    }
   ],
   "source": [
    "plt.xscale('log')\n",
    "plt.plot(C_grid, loss_list, label='log_loss')\n",
    "plt.legend()\n",
    "plt.title(\"Logistic Loss of LR Model based on penalty parameter \")\n",
    "plt.xlabel(\"C\")\n",
    "plt.ylabel(\"Log_Loss\")"
   ]
  },
  {
   "cell_type": "code",
   "execution_count": 16,
   "id": "a2284ac1",
   "metadata": {},
   "outputs": [
    {
     "data": {
      "text/plain": [
       "0.31622776601683794"
      ]
     },
     "execution_count": 16,
     "metadata": {},
     "output_type": "execute_result"
    }
   ],
   "source": [
    "C_grid[17]"
   ]
  },
  {
   "cell_type": "code",
   "execution_count": 17,
   "id": "44387866",
   "metadata": {},
   "outputs": [
    {
     "name": "stdout",
     "output_type": "stream",
     "text": [
      "The min log loss is: 1.430\n",
      "The min log loss index is: 16\n",
      "C value(L2 penalty) when min log loss is: 0.1\n"
     ]
    }
   ],
   "source": [
    "min_loss = 10\n",
    "min_arg = 0\n",
    "for i in range(len(loss_list)):\n",
    "    if loss_list[i] < min_loss:\n",
    "        min_loss = loss_list[i]\n",
    "        min_arg = i\n",
    "        i+=1\n",
    "\n",
    "print(\"The min log loss is: %.3f\" %min_loss)\n",
    "print(\"The min log loss index is: %s\"%min_arg)\n",
    "print(\"C value(L2 penalty) when min log loss is: %s\"% C_grid[min_arg])"
   ]
  },
  {
   "cell_type": "code",
   "execution_count": 16,
   "id": "37620fc6",
   "metadata": {},
   "outputs": [
    {
     "name": "stderr",
     "output_type": "stream",
     "text": [
      "D:\\conda\\lib\\site-packages\\sklearn\\utils\\validation.py:985: DataConversionWarning: A column-vector y was passed when a 1d array was expected. Please change the shape of y to (n_samples, ), for example using ravel().\n",
      "  y = column_or_1d(y, warn=True)\n"
     ]
    }
   ],
   "source": [
    "lr_clf_l1 = LogisticRegression(penalty='l1',C=0.1, random_state=8, solver='liblinear')\n",
    "lr_clf_l1.fit(X_train, y_train)\n",
    "y_predict_l1 = lr_clf_l1.predict(X_test)\n",
    "proba_l1 = lr_clf_l1.predict_proba(X_test)"
   ]
  },
  {
   "cell_type": "code",
   "execution_count": 17,
   "id": "da8bbd78",
   "metadata": {},
   "outputs": [
    {
     "data": {
      "text/plain": [
       "(1772, 59, 90, 1679)"
      ]
     },
     "execution_count": 17,
     "metadata": {},
     "output_type": "execute_result"
    }
   ],
   "source": [
    "tn, fp, fn, tp = confusion_matrix(y_test,y_predict_l1).ravel()\n",
    "(tn, fp, fn, tp)"
   ]
  },
  {
   "cell_type": "code",
   "execution_count": 18,
   "id": "0b7027ad",
   "metadata": {},
   "outputs": [
    {
     "data": {
      "text/plain": [
       "<sklearn.metrics._plot.confusion_matrix.ConfusionMatrixDisplay at 0x191579f3940>"
      ]
     },
     "execution_count": 18,
     "metadata": {},
     "output_type": "execute_result"
    },
    {
     "data": {
      "image/png": "[encoded data removed]",
      "text/plain": [
       "<Figure size 576x396 with 2 Axes>"
      ]
     },
     "metadata": {},
     "output_type": "display_data"
    }
   ],
   "source": [
    "cm = confusion_matrix(y_test,y_predict_l1)\n",
    "disp = ConfusionMatrixDisplay(confusion_matrix=cm)\n",
    "disp.plot()"
   ]
  },
  {
   "cell_type": "code",
   "execution_count": 79,
   "id": "01025bc0",
   "metadata": {},
   "outputs": [
    {
     "data": {
      "text/plain": [
       "<matplotlib.legend.Legend at 0x17f014f5700>"
      ]
     },
     "execution_count": 79,
     "metadata": {},
     "output_type": "execute_result"
    },
    {
     "data": {
      "image/png": "[encoded data removed]",
      "text/plain": [
       "<Figure size 576x396 with 1 Axes>"
      ]
     },
     "metadata": {},
     "output_type": "display_data"
    }
   ],
   "source": [
    "fpr2, tpr2, thresholds = metrics.roc_curve(y_test, proba_l1[:,1])\n",
    "fpr, tpr, thresholds = metrics.roc_curve(y_test, proba[:,1])\n",
    "# fpr2, tpr2, thresholds2 = metrics.roc_curve(y_test, proba)\n",
    "\n",
    "\n",
    "plt.plot(fpr2, tpr2,color='red', label='lr_l1_tuned')\n",
    "plt.plot(fpr, tpr,color='blue', label='lr_basic')\n",
    "# plt.plot(fpr2, tpr2,color='red', label='CCCV')\n",
    "\n",
    "plt.ylim([0, 1]);\n",
    "plt.xlabel(\"False Postive rate (FPR)\")\n",
    "plt.ylabel(\"True Postive rate (TPR)\")\n",
    "plt.legend()"
   ]
  },
  {
   "cell_type": "code",
   "execution_count": 28,
   "id": "ca860a79",
   "metadata": {},
   "outputs": [
    {
     "data": {
      "text/plain": [
       "0.9831561151316794"
      ]
     },
     "execution_count": 28,
     "metadata": {},
     "output_type": "execute_result"
    }
   ],
   "source": [
    "roc_auc_score(y_test, proba_l1[:,1])"
   ]
  },
  {
   "cell_type": "markdown",
   "id": "8ff8bf11",
   "metadata": {},
   "source": [
    "### Data Augmentation (filp)"
   ]
  },
  {
   "cell_type": "code",
   "execution_count": 29,
   "id": "c7d6f7d9",
   "metadata": {},
   "outputs": [],
   "source": [
    "samples = X_train.iloc[:9,:]\n",
    "# samples.iloc[0]\n",
    "# X_train"
   ]
  },
  {
   "cell_type": "markdown",
   "id": "e19e013b",
   "metadata": {},
   "source": [
    "#### Image flip examples"
   ]
  },
  {
   "cell_type": "code",
   "execution_count": 30,
   "id": "9f88f786",
   "metadata": {},
   "outputs": [
    {
     "data": {
      "image/png": "[encoded data removed]",
      "text/plain": [
       "<Figure size 576x396 with 9 Axes>"
      ]
     },
     "metadata": {},
     "output_type": "display_data"
    }
   ],
   "source": [
    "fig = plt.figure()\n",
    "axes = []\n",
    "\n",
    "for i in range(0,9):\n",
    "    axes.append(fig.add_subplot(3,3,i+1))\n",
    "#     subplot_title=(\"false positive image\"+str(i+1))\n",
    "#     axes[-1].set_title(subplot_title)\n",
    "    plt.imshow(samples.iloc[i].to_numpy().reshape(28,28), cmap=plt.cm.gray, vmin=0.0, vmax=1.0)\n",
    "\n",
    "fig.tight_layout()\n",
    "plt.show()"
   ]
  },
  {
   "cell_type": "code",
   "execution_count": 31,
   "id": "bd2d15d6",
   "metadata": {},
   "outputs": [],
   "source": [
    "X_train_np = X_train.to_numpy().reshape(X_train.shape[0],28,28)\n",
    "X_test_np = X_test.to_numpy().reshape(X_test.shape[0],28,28)"
   ]
  },
  {
   "cell_type": "code",
   "execution_count": 32,
   "id": "8626f2d5",
   "metadata": {},
   "outputs": [
    {
     "data": {
      "image/png": "[encoded data removed]",
      "text/plain": [
       "<Figure size 576x396 with 9 Axes>"
      ]
     },
     "metadata": {},
     "output_type": "display_data"
    }
   ],
   "source": [
    "fig = plt.figure()\n",
    "axes = []\n",
    "\n",
    "for i in range(0,9):\n",
    "    axes.append(fig.add_subplot(3,3,i+1))\n",
    "#     subplot_title=(\"false positive image\"+str(i+1))\n",
    "#     axes[-1].set_title(subplot_title)\n",
    "    plt.imshow(np.flip(samples.iloc[i].to_numpy().reshape(28,28),axis=0), cmap=plt.cm.gray, vmin=0.0, vmax=1.0)\n",
    "\n",
    "fig.tight_layout()\n",
    "plt.show()"
   ]
  },
  {
   "cell_type": "code",
   "execution_count": 33,
   "id": "b5fdb8df",
   "metadata": {},
   "outputs": [],
   "source": [
    "X_train_flip = np.flip(X_train_np, axis=0)\n",
    "X_test_flip = np.flip(X_test_np, axis=0)"
   ]
  },
  {
   "cell_type": "code",
   "execution_count": 34,
   "id": "d6340d6f",
   "metadata": {},
   "outputs": [],
   "source": [
    "X_train_flip_lr = X_train_flip.reshape(X_train_flip.shape[0],-1)\n",
    "X_test_flip_lr = X_test_flip.reshape(X_test_flip.shape[0],-1)"
   ]
  },
  {
   "cell_type": "code",
   "execution_count": 35,
   "id": "7cc3b401",
   "metadata": {},
   "outputs": [
    {
     "data": {
      "text/plain": [
       "(8400, 28, 28)"
      ]
     },
     "execution_count": 35,
     "metadata": {},
     "output_type": "execute_result"
    }
   ],
   "source": [
    "X_train_np.shape"
   ]
  },
  {
   "cell_type": "code",
   "execution_count": 36,
   "id": "9a7ed434",
   "metadata": {},
   "outputs": [
    {
     "data": {
      "text/plain": [
       "numpy.ndarray"
      ]
     },
     "execution_count": 36,
     "metadata": {},
     "output_type": "execute_result"
    }
   ],
   "source": [
    "type(X_train_flip_lr)"
   ]
  },
  {
   "cell_type": "code",
   "execution_count": 37,
   "id": "0150ae73",
   "metadata": {},
   "outputs": [
    {
     "data": {
      "text/plain": [
       "numpy.ndarray"
      ]
     },
     "execution_count": 37,
     "metadata": {},
     "output_type": "execute_result"
    }
   ],
   "source": [
    "type(X_train_np)"
   ]
  },
  {
   "cell_type": "code",
   "execution_count": 38,
   "id": "b2d9d873",
   "metadata": {},
   "outputs": [
    {
     "data": {
      "text/plain": [
       "(8400, 784)"
      ]
     },
     "execution_count": 38,
     "metadata": {},
     "output_type": "execute_result"
    }
   ],
   "source": [
    "X_train.shape"
   ]
  },
  {
   "cell_type": "code",
   "execution_count": 39,
   "id": "b6c669c1",
   "metadata": {},
   "outputs": [
    {
     "data": {
      "text/plain": [
       "(8400, 784)"
      ]
     },
     "execution_count": 39,
     "metadata": {},
     "output_type": "execute_result"
    }
   ],
   "source": [
    "X_train_flip_lr.shape"
   ]
  },
  {
   "cell_type": "code",
   "execution_count": 40,
   "id": "aed32544",
   "metadata": {},
   "outputs": [
    {
     "data": {
      "text/plain": [
       "(8400, 784)"
      ]
     },
     "execution_count": 40,
     "metadata": {},
     "output_type": "execute_result"
    }
   ],
   "source": [
    "X_train.to_numpy().shape"
   ]
  },
  {
   "cell_type": "code",
   "execution_count": 41,
   "id": "e18d11c8",
   "metadata": {},
   "outputs": [],
   "source": [
    "X_train_con = np.concatenate((X_train_flip_lr, X_train.to_numpy()))\n",
    "X_test_con = np.concatenate((X_test_flip_lr, X_test.to_numpy()))\n",
    "y_train_con = np.concatenate((y_train, y_train))\n",
    "y_test_con = np.concatenate((y_test, y_test))"
   ]
  },
  {
   "cell_type": "code",
   "execution_count": 42,
   "id": "4d8017fd",
   "metadata": {},
   "outputs": [
    {
     "name": "stdout",
     "output_type": "stream",
     "text": [
      "(16800, 784)\n",
      "(7200, 784)\n",
      "(16800, 1)\n",
      "(7200, 1)\n"
     ]
    }
   ],
   "source": [
    "for data in [X_train_con, X_test_con, y_train_con, y_test_con]:\n",
    "    print(data.shape)"
   ]
  },
  {
   "cell_type": "code",
   "execution_count": 58,
   "id": "830c93c5",
   "metadata": {},
   "outputs": [
    {
     "name": "stderr",
     "output_type": "stream",
     "text": [
      "D:\\conda\\lib\\site-packages\\sklearn\\utils\\validation.py:985: DataConversionWarning: A column-vector y was passed when a 1d array was expected. Please change the shape of y to (n_samples, ), for example using ravel().\n",
      "  y = column_or_1d(y, warn=True)\n"
     ]
    },
    {
     "name": "stdout",
     "output_type": "stream",
     "text": [
      "The accuracy for the basic model on test set is: 1.000\n",
      "The accuracy for the basic model on train set is: 0.727\n",
      "The log loss for the basic model is: 10.016\n"
     ]
    }
   ],
   "source": [
    "lr_clf_flip = LogisticRegression(penalty='l1',solver='liblinear')\n",
    "lr_clf_flip.fit(X_train_con, y_train_con)\n",
    "y_predict_flip = lr_clf_flip.predict(X_test_con)\n",
    "proba_flip = lr_clf_flip.predict_proba(X_test_con)\n",
    "# y_predict.shape\n",
    "\n",
    "acc1 = lr_clf_flip.score(X_test_con,y_predict_flip)\n",
    "print(\"The accuracy for the basic model on test set is: %.3f\" % acc1)\n",
    "acc2 = lr_clf_flip.score(X_train_con,y_train_con)\n",
    "print(\"The accuracy for the basic model on train set is: %.3f\" % acc2)\n",
    "log_loss1 = log_loss(y_test_con, y_predict_flip)\n",
    "print(\"The log loss for the basic model is: %.3f\" % log_loss1)"
   ]
  },
  {
   "cell_type": "code",
   "execution_count": 50,
   "id": "381ef312",
   "metadata": {},
   "outputs": [
    {
     "data": {
      "text/plain": [
       "(2623, 1039, 1065, 2473)"
      ]
     },
     "execution_count": 50,
     "metadata": {},
     "output_type": "execute_result"
    }
   ],
   "source": [
    "tn, fp, fn, tp = confusion_matrix(y_test_con,y_predict_flip).ravel()\n",
    "(tn, fp, fn, tp)"
   ]
  },
  {
   "cell_type": "code",
   "execution_count": 53,
   "id": "05cdf3a4",
   "metadata": {},
   "outputs": [
    {
     "data": {
      "text/plain": [
       "<sklearn.metrics._plot.confusion_matrix.ConfusionMatrixDisplay at 0x17f0492a9a0>"
      ]
     },
     "execution_count": 53,
     "metadata": {},
     "output_type": "execute_result"
    },
    {
     "data": {
      "image/png": "[encoded data removed]",
      "text/plain": [
       "<Figure size 576x396 with 2 Axes>"
      ]
     },
     "metadata": {},
     "output_type": "display_data"
    }
   ],
   "source": [
    "cm = confusion_matrix(y_test_con,y_predict_flip)\n",
    "disp = ConfusionMatrixDisplay(confusion_matrix=cm)\n",
    "disp.plot()"
   ]
  },
  {
   "cell_type": "code",
   "execution_count": 54,
   "id": "546f5f66",
   "metadata": {},
   "outputs": [
    {
     "data": {
      "text/plain": [
       "<matplotlib.legend.Legend at 0x17f01ab82b0>"
      ]
     },
     "execution_count": 54,
     "metadata": {},
     "output_type": "execute_result"
    },
    {
     "data": {
      "image/png": "[encoded data removed]",
      "text/plain": [
       "<Figure size 576x396 with 1 Axes>"
      ]
     },
     "metadata": {},
     "output_type": "display_data"
    }
   ],
   "source": [
    "fpr, tpr, thresholds = metrics.roc_curve(y_test_con, proba_flip[:,1])\n",
    "# fpr2, tpr2, thresholds2 = metrics.roc_curve(y_test, proba)\n",
    "\n",
    "plt.plot(fpr, tpr,color='blue', label='lr_basic_da')\n",
    "# plt.plot(fpr2, tpr2,color='red', label='CCCV')\n",
    "\n",
    "plt.ylim([0, 1]);\n",
    "plt.xlabel(\"False Postive rate (FPR)\")\n",
    "plt.ylabel(\"True Postive rate (TPR)\")\n",
    "plt.legend()"
   ]
  },
  {
   "cell_type": "code",
   "execution_count": 46,
   "id": "31ad3da8",
   "metadata": {},
   "outputs": [
    {
     "data": {
      "text/plain": [
       "0.7369185736880599"
      ]
     },
     "execution_count": 46,
     "metadata": {},
     "output_type": "execute_result"
    }
   ],
   "source": [
    "roc_auc_score(y_test_con, proba_flip[:,1])"
   ]
  },
  {
   "cell_type": "code",
   "execution_count": 64,
   "id": "cfcd9a0f",
   "metadata": {},
   "outputs": [
    {
     "name": "stderr",
     "output_type": "stream",
     "text": [
      "D:\\conda\\lib\\site-packages\\sklearn\\utils\\validation.py:985: DataConversionWarning: A column-vector y was passed when a 1d array was expected. Please change the shape of y to (n_samples, ), for example using ravel().\n",
      "  y = column_or_1d(y, warn=True)\n",
      "D:\\conda\\lib\\site-packages\\sklearn\\utils\\validation.py:985: DataConversionWarning: A column-vector y was passed when a 1d array was expected. Please change the shape of y to (n_samples, ), for example using ravel().\n",
      "  y = column_or_1d(y, warn=True)\n",
      "D:\\conda\\lib\\site-packages\\sklearn\\utils\\validation.py:985: DataConversionWarning: A column-vector y was passed when a 1d array was expected. Please change the shape of y to (n_samples, ), for example using ravel().\n",
      "  y = column_or_1d(y, warn=True)\n",
      "D:\\conda\\lib\\site-packages\\sklearn\\utils\\validation.py:985: DataConversionWarning: A column-vector y was passed when a 1d array was expected. Please change the shape of y to (n_samples, ), for example using ravel().\n",
      "  y = column_or_1d(y, warn=True)\n",
      "D:\\conda\\lib\\site-packages\\sklearn\\utils\\validation.py:985: DataConversionWarning: A column-vector y was passed when a 1d array was expected. Please change the shape of y to (n_samples, ), for example using ravel().\n",
      "  y = column_or_1d(y, warn=True)\n",
      "D:\\conda\\lib\\site-packages\\sklearn\\utils\\validation.py:985: DataConversionWarning: A column-vector y was passed when a 1d array was expected. Please change the shape of y to (n_samples, ), for example using ravel().\n",
      "  y = column_or_1d(y, warn=True)\n",
      "D:\\conda\\lib\\site-packages\\sklearn\\utils\\validation.py:985: DataConversionWarning: A column-vector y was passed when a 1d array was expected. Please change the shape of y to (n_samples, ), for example using ravel().\n",
      "  y = column_or_1d(y, warn=True)\n",
      "D:\\conda\\lib\\site-packages\\sklearn\\utils\\validation.py:985: DataConversionWarning: A column-vector y was passed when a 1d array was expected. Please change the shape of y to (n_samples, ), for example using ravel().\n",
      "  y = column_or_1d(y, warn=True)\n",
      "D:\\conda\\lib\\site-packages\\sklearn\\utils\\validation.py:985: DataConversionWarning: A column-vector y was passed when a 1d array was expected. Please change the shape of y to (n_samples, ), for example using ravel().\n",
      "  y = column_or_1d(y, warn=True)\n",
      "D:\\conda\\lib\\site-packages\\sklearn\\utils\\validation.py:985: DataConversionWarning: A column-vector y was passed when a 1d array was expected. Please change the shape of y to (n_samples, ), for example using ravel().\n",
      "  y = column_or_1d(y, warn=True)\n",
      "D:\\conda\\lib\\site-packages\\sklearn\\utils\\validation.py:985: DataConversionWarning: A column-vector y was passed when a 1d array was expected. Please change the shape of y to (n_samples, ), for example using ravel().\n",
      "  y = column_or_1d(y, warn=True)\n",
      "D:\\conda\\lib\\site-packages\\sklearn\\utils\\validation.py:985: DataConversionWarning: A column-vector y was passed when a 1d array was expected. Please change the shape of y to (n_samples, ), for example using ravel().\n",
      "  y = column_or_1d(y, warn=True)\n",
      "D:\\conda\\lib\\site-packages\\sklearn\\utils\\validation.py:985: DataConversionWarning: A column-vector y was passed when a 1d array was expected. Please change the shape of y to (n_samples, ), for example using ravel().\n",
      "  y = column_or_1d(y, warn=True)\n",
      "D:\\conda\\lib\\site-packages\\sklearn\\utils\\validation.py:985: DataConversionWarning: A column-vector y was passed when a 1d array was expected. Please change the shape of y to (n_samples, ), for example using ravel().\n",
      "  y = column_or_1d(y, warn=True)\n",
      "D:\\conda\\lib\\site-packages\\sklearn\\utils\\validation.py:985: DataConversionWarning: A column-vector y was passed when a 1d array was expected. Please change the shape of y to (n_samples, ), for example using ravel().\n",
      "  y = column_or_1d(y, warn=True)\n",
      "D:\\conda\\lib\\site-packages\\sklearn\\utils\\validation.py:985: DataConversionWarning: A column-vector y was passed when a 1d array was expected. Please change the shape of y to (n_samples, ), for example using ravel().\n",
      "  y = column_or_1d(y, warn=True)\n",
      "D:\\conda\\lib\\site-packages\\sklearn\\utils\\validation.py:985: DataConversionWarning: A column-vector y was passed when a 1d array was expected. Please change the shape of y to (n_samples, ), for example using ravel().\n",
      "  y = column_or_1d(y, warn=True)\n",
      "D:\\conda\\lib\\site-packages\\sklearn\\utils\\validation.py:985: DataConversionWarning: A column-vector y was passed when a 1d array was expected. Please change the shape of y to (n_samples, ), for example using ravel().\n",
      "  y = column_or_1d(y, warn=True)\n",
      "D:\\conda\\lib\\site-packages\\sklearn\\utils\\validation.py:985: DataConversionWarning: A column-vector y was passed when a 1d array was expected. Please change the shape of y to (n_samples, ), for example using ravel().\n",
      "  y = column_or_1d(y, warn=True)\n",
      "D:\\conda\\lib\\site-packages\\sklearn\\utils\\validation.py:985: DataConversionWarning: A column-vector y was passed when a 1d array was expected. Please change the shape of y to (n_samples, ), for example using ravel().\n",
      "  y = column_or_1d(y, warn=True)\n",
      "D:\\conda\\lib\\site-packages\\sklearn\\utils\\validation.py:985: DataConversionWarning: A column-vector y was passed when a 1d array was expected. Please change the shape of y to (n_samples, ), for example using ravel().\n",
      "  y = column_or_1d(y, warn=True)\n",
      "D:\\conda\\lib\\site-packages\\sklearn\\utils\\validation.py:985: DataConversionWarning: A column-vector y was passed when a 1d array was expected. Please change the shape of y to (n_samples, ), for example using ravel().\n",
      "  y = column_or_1d(y, warn=True)\n",
      "D:\\conda\\lib\\site-packages\\sklearn\\utils\\validation.py:985: DataConversionWarning: A column-vector y was passed when a 1d array was expected. Please change the shape of y to (n_samples, ), for example using ravel().\n",
      "  y = column_or_1d(y, warn=True)\n",
      "D:\\conda\\lib\\site-packages\\sklearn\\utils\\validation.py:985: DataConversionWarning: A column-vector y was passed when a 1d array was expected. Please change the shape of y to (n_samples, ), for example using ravel().\n",
      "  y = column_or_1d(y, warn=True)\n",
      "D:\\conda\\lib\\site-packages\\sklearn\\utils\\validation.py:985: DataConversionWarning: A column-vector y was passed when a 1d array was expected. Please change the shape of y to (n_samples, ), for example using ravel().\n",
      "  y = column_or_1d(y, warn=True)\n",
      "D:\\conda\\lib\\site-packages\\sklearn\\utils\\validation.py:985: DataConversionWarning: A column-vector y was passed when a 1d array was expected. Please change the shape of y to (n_samples, ), for example using ravel().\n",
      "  y = column_or_1d(y, warn=True)\n",
      "D:\\conda\\lib\\site-packages\\sklearn\\utils\\validation.py:985: DataConversionWarning: A column-vector y was passed when a 1d array was expected. Please change the shape of y to (n_samples, ), for example using ravel().\n",
      "  y = column_or_1d(y, warn=True)\n",
      "D:\\conda\\lib\\site-packages\\sklearn\\utils\\validation.py:985: DataConversionWarning: A column-vector y was passed when a 1d array was expected. Please change the shape of y to (n_samples, ), for example using ravel().\n",
      "  y = column_or_1d(y, warn=True)\n",
      "D:\\conda\\lib\\site-packages\\sklearn\\utils\\validation.py:985: DataConversionWarning: A column-vector y was passed when a 1d array was expected. Please change the shape of y to (n_samples, ), for example using ravel().\n",
      "  y = column_or_1d(y, warn=True)\n",
      "D:\\conda\\lib\\site-packages\\sklearn\\utils\\validation.py:985: DataConversionWarning: A column-vector y was passed when a 1d array was expected. Please change the shape of y to (n_samples, ), for example using ravel().\n",
      "  y = column_or_1d(y, warn=True)\n",
      "D:\\conda\\lib\\site-packages\\sklearn\\utils\\validation.py:985: DataConversionWarning: A column-vector y was passed when a 1d array was expected. Please change the shape of y to (n_samples, ), for example using ravel().\n",
      "  y = column_or_1d(y, warn=True)\n"
     ]
    }
   ],
   "source": [
    "C_grid = np.logspace(-9, 6, 31)\n",
    "acc_list2 = []\n",
    "loss_list2 = []\n",
    "for c in C_grid:\n",
    "    lr_clf_c_flip = LogisticRegression(penalty='l1',C=c, solver='liblinear')\n",
    "    lr_clf_c_flip.fit(X_train_con, y_train_con)\n",
    "    y_predict_c_flip = lr_clf_c_flip.predict(X_test_con)\n",
    "    proba_c_flip = lr_clf_c_flip.predict_proba(X_test_con)\n",
    "    acc = lr_clf_c_flip.score(X_train_con, y_train_con)\n",
    "    acc_list2.append(acc)\n",
    "    log_loss_c_flip = log_loss(y_test_con, y_predict_c_flip)\n",
    "    loss_list2.append(log_loss_c_flip)"
   ]
  },
  {
   "cell_type": "code",
   "execution_count": 83,
   "id": "aa1f665d",
   "metadata": {},
   "outputs": [
    {
     "data": {
      "text/plain": [
       "Text(0, 0.5, 'Accuracy')"
      ]
     },
     "execution_count": 83,
     "metadata": {},
     "output_type": "execute_result"
    },
    {
     "data": {
      "image/png": "[encoded data removed]",
      "text/plain": [
       "<Figure size 576x396 with 1 Axes>"
      ]
     },
     "metadata": {},
     "output_type": "display_data"
    }
   ],
   "source": [
    "plt.xscale('log')\n",
    "plt.plot(C_grid, acc_list2, label='accuracy_DA')\n",
    "plt.plot(C_grid, acc_list, label='accuracy', color='red')\n",
    "plt.legend()\n",
    "plt.title(\"Accuracy of LR Model \")\n",
    "plt.xlabel(\"C\")\n",
    "plt.ylabel(\"Accuracy\")"
   ]
  },
  {
   "cell_type": "code",
   "execution_count": 84,
   "id": "f775a8c6",
   "metadata": {},
   "outputs": [
    {
     "data": {
      "text/plain": [
       "Text(0, 0.5, 'Log_Loss')"
      ]
     },
     "execution_count": 84,
     "metadata": {},
     "output_type": "execute_result"
    },
    {
     "data": {
      "image/png": "[encoded data removed]",
      "text/plain": [
       "<Figure size 576x396 with 1 Axes>"
      ]
     },
     "metadata": {},
     "output_type": "display_data"
    }
   ],
   "source": [
    "plt.xscale('log')\n",
    "plt.plot(C_grid, loss_list2, label='log_loss_DA')\n",
    "plt.plot(C_grid, loss_list, label='log_loss',color='red')\n",
    "plt.legend()\n",
    "plt.title(\"Logistic Loss of LR Model based on different iterations \")\n",
    "plt.xlabel(\"C\")\n",
    "plt.ylabel(\"Log_Loss\")"
   ]
  },
  {
   "cell_type": "code",
   "execution_count": 71,
   "id": "0533ad32",
   "metadata": {},
   "outputs": [
    {
     "name": "stdout",
     "output_type": "stream",
     "text": [
      "The min log loss is: 9.335\n",
      "The min log loss index is: 15\n",
      "C value(L2 penalty) when min log loss is: 0.03162277660168379\n"
     ]
    }
   ],
   "source": [
    "min_loss = 1000\n",
    "min_arg = 0\n",
    "for i in range(len(loss_list2)):\n",
    "    if loss_list2[i] < min_loss:\n",
    "        min_loss = loss_list2[i]\n",
    "        min_arg = i\n",
    "        i+=1\n",
    "\n",
    "print(\"The min log loss is: %.3f\" %min_loss)\n",
    "print(\"The min log loss index is: %s\"%min_arg)\n",
    "print(\"C value(L2 penalty) when min log loss is: %s\"% C_grid[min_arg])"
   ]
  },
  {
   "cell_type": "code",
   "execution_count": 72,
   "id": "66fd8b5a",
   "metadata": {},
   "outputs": [
    {
     "name": "stderr",
     "output_type": "stream",
     "text": [
      "D:\\conda\\lib\\site-packages\\sklearn\\utils\\validation.py:985: DataConversionWarning: A column-vector y was passed when a 1d array was expected. Please change the shape of y to (n_samples, ), for example using ravel().\n",
      "  y = column_or_1d(y, warn=True)\n"
     ]
    },
    {
     "name": "stdout",
     "output_type": "stream",
     "text": [
      "The accuracy for the basic model on test set is: 1.000\n",
      "The accuracy for the basic model on train set is: 0.728\n",
      "The log loss for the basic model is: 9.335\n"
     ]
    }
   ],
   "source": [
    "lr_clf_flip2 = LogisticRegression(penalty='l1', C=0.0316,solver='liblinear')\n",
    "lr_clf_flip2.fit(X_train_con, y_train_con)\n",
    "y_predict_flip2 = lr_clf_flip2.predict(X_test_con)\n",
    "proba_flip2 = lr_clf_flip2.predict_proba(X_test_con)\n",
    "# y_predict.shape\n",
    "\n",
    "acc1 = lr_clf_flip2.score(X_test_con,y_predict_flip2)\n",
    "print(\"The accuracy for the basic model on test set is: %.3f\" % acc1)\n",
    "acc2 = lr_clf_flip2.score(X_train_con,y_train_con)\n",
    "print(\"The accuracy for the basic model on train set is: %.3f\" % acc2)\n",
    "log_loss3 = log_loss(y_test_con, y_predict_flip2)\n",
    "print(\"The log loss for the basic model is: %.3f\" % log_loss3)"
   ]
  },
  {
   "cell_type": "code",
   "execution_count": 76,
   "id": "c0f6389f",
   "metadata": {},
   "outputs": [
    {
     "data": {
      "text/plain": [
       "<matplotlib.legend.Legend at 0x17f0548faf0>"
      ]
     },
     "execution_count": 76,
     "metadata": {},
     "output_type": "execute_result"
    },
    {
     "data": {
      "image/png": "[encoded data removed]",
      "text/plain": [
       "<Figure size 576x396 with 1 Axes>"
      ]
     },
     "metadata": {},
     "output_type": "display_data"
    }
   ],
   "source": [
    "fpr, tpr, thresholds = metrics.roc_curve(y_test_con, proba_flip2[:,1])\n",
    "# fpr2, tpr2, thresholds2 = metrics.roc_curve(y_test, proba)\n",
    "fpr2, tpr2, thresholds = metrics.roc_curve(y_test, proba_l1[:,1])\n",
    "# fpr2, tpr2, thresholds2 = metrics.roc_curve(y_test, proba)\n",
    "\n",
    "plt.plot(fpr, tpr,color='blue', label='lr_basic_da_tuned')\n",
    "plt.plot(fpr2, tpr2,color='red', label='lr_l1_tuned')\n",
    "\n",
    "plt.ylim([0, 1]);\n",
    "plt.xlabel(\"False Postive rate (FPR)\")\n",
    "plt.ylabel(\"True Postive rate (TPR)\")\n",
    "plt.legend()"
   ]
  },
  {
   "cell_type": "code",
   "execution_count": 77,
   "id": "5937f711",
   "metadata": {},
   "outputs": [
    {
     "data": {
      "text/plain": [
       "0.7468820227234065"
      ]
     },
     "execution_count": 77,
     "metadata": {},
     "output_type": "execute_result"
    }
   ],
   "source": [
    "roc_auc_score(y_test_con, proba_flip2[:,1])"
   ]
  },
  {
   "cell_type": "markdown",
   "id": "7909477e",
   "metadata": {},
   "source": [
    "### Part Three"
   ]
  },
  {
   "cell_type": "code",
   "execution_count": 20,
   "id": "1e60a329",
   "metadata": {},
   "outputs": [],
   "source": [
    "test_shirt_x = pd.read_csv('troudress_test_x.csv')\n",
    "yproba1_test = lr_clf_l1.predict_proba(test_shirt_x)[:, 1]\n",
    "np.savetxt('yproba1_test.txt', yproba1_test)"
   ]
  },
  {
   "cell_type": "code",
   "execution_count": null,
   "id": "b267bf17",
   "metadata": {},
   "outputs": [],
   "source": []
  },
  {
   "cell_type": "code",
   "execution_count": 4,
   "id": "7d03c4ff-cc95-4210-959f-07c8f635c00d",
   "metadata": {},
   "outputs": [],
   "source": [
    "from sklearn.ensemble import GradientBoostingClassifier"
   ]
  },
  {
   "cell_type": "code",
   "execution_count": 7,
   "id": "2df4b24e-48ed-408c-944c-57b9e0c4685d",
   "metadata": {},
   "outputs": [
    {
     "name": "stderr",
     "output_type": "stream",
     "text": [
      "D:\\conda\\lib\\site-packages\\sklearn\\ensemble\\_gb.py:494: DataConversionWarning: A column-vector y was passed when a 1d array was expected. Please change the shape of y to (n_samples, ), for example using ravel().\n",
      "  y = column_or_1d(y, warn=True)\n"
     ]
    },
    {
     "data": {
      "text/plain": [
       "0.9725"
      ]
     },
     "execution_count": 7,
     "metadata": {},
     "output_type": "execute_result"
    }
   ],
   "source": [
    "clf = GradientBoostingClassifier(n_estimators=100, learning_rate=1.0, random_state=0).fit(X_train, y_train)\n",
    "clf.score(X_test, y_test)"
   ]
  },
  {
   "cell_type": "code",
   "execution_count": 22,
   "id": "c24e7f48-8a71-4d11-9bec-c8cc2c97cf97",
   "metadata": {},
   "outputs": [],
   "source": [
    "yproba2_test =  clf.predict_proba(test_shirt_x)[:,1]\n",
    "np.savetxt('yproba2_test.txt', yproba2_test)"
   ]
  },
  {
   "cell_type": "code",
   "execution_count": 9,
   "id": "f7263d08-40b2-4074-8c51-0db2a515ac4b",
   "metadata": {},
   "outputs": [
    {
     "data": {
      "text/plain": [
       "array([3.39153906e-05, 9.99896152e-01, 2.39819671e-06, ...,\n",
       "       9.99999992e-01, 9.99999978e-01, 2.98059354e-06])"
      ]
     },
     "execution_count": 9,
     "metadata": {},
     "output_type": "execute_result"
    }
   ],
   "source": [
    "yproba2_test"
   ]
  },
  {
   "cell_type": "code",
   "execution_count": 21,
   "id": "755d9a08-9413-46b4-9730-a484afa31e29",
   "metadata": {},
   "outputs": [
    {
     "data": {
      "text/plain": [
       "array([0.06744461, 0.67109694, 0.0977984 , ..., 0.99923161, 0.99971984,\n",
       "       0.02270838])"
      ]
     },
     "execution_count": 21,
     "metadata": {},
     "output_type": "execute_result"
    }
   ],
   "source": [
    "yproba1_test"
   ]
  },
  {
   "cell_type": "code",
   "execution_count": null,
   "id": "7588b5a8-23a2-476a-b2b4-917dc6a8f549",
   "metadata": {},
   "outputs": [],
   "source": []
  }
 ],
 "metadata": {
  "kernelspec": {
   "display_name": "Python 3 (ipykernel)",
   "language": "python",
   "name": "python3"
  },
  "language_info": {
   "codemirror_mode": {
    "name": "ipython",
    "version": 3
   },
   "file_extension": ".py",
   "mimetype": "text/x-python",
   "name": "python",
   "nbconvert_exporter": "python",
   "pygments_lexer": "ipython3",
   "version": "3.8.3"
  },
  "varInspector": {
   "cols": {
    "lenName": 16,
    "lenType": 16,
    "lenVar": 40
   },
   "kernels_config": {
    "python": {
     "delete_cmd_postfix": "",
     "delete_cmd_prefix": "del ",
     "library": "var_list.py",
     "varRefreshCmd": "print(var_dic_list())"
    },
    "r": {
     "delete_cmd_postfix": ") ",
     "delete_cmd_prefix": "rm(",
     "library": "var_list.r",
     "varRefreshCmd": "cat(var_dic_list()) "
    }
   },
   "types_to_exclude": [
    "module",
    "function",
    "builtin_function_or_method",
    "instance",
    "_Feature"
   ],
   "window_display": false
  }
 },
 "nbformat": 4,
 "nbformat_minor": 5
}
